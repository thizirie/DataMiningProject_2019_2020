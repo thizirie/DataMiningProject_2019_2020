{
 "cells": [
  {
   "cell_type": "code",
   "execution_count": 1,
   "metadata": {},
   "outputs": [],
   "source": [
    "%matplotlib inline\n",
    "\n",
    "import numpy as np\n",
    "import pandas as pd\n",
    "import matplotlib.pyplot as plt\n",
    "\n",
    "from sklearn.metrics import confusion_matrix\n",
    "from sklearn.metrics import accuracy_score, f1_score, classification_report, recall_score\n",
    "from sklearn.metrics import roc_curve, auc, roc_auc_score\n",
    "from sklearn.tree import DecisionTreeClassifier\n",
    "from sklearn.model_selection import train_test_split"
   ]
  },
  {
   "cell_type": "code",
   "execution_count": 2,
   "metadata": {
    "scrolled": true
   },
   "outputs": [
    {
     "data": {
      "text/html": [
       "<div>\n",
       "<style scoped>\n",
       "    .dataframe tbody tr th:only-of-type {\n",
       "        vertical-align: middle;\n",
       "    }\n",
       "\n",
       "    .dataframe tbody tr th {\n",
       "        vertical-align: top;\n",
       "    }\n",
       "\n",
       "    .dataframe thead th {\n",
       "        text-align: right;\n",
       "    }\n",
       "</style>\n",
       "<table border=\"1\" class=\"dataframe\">\n",
       "  <thead>\n",
       "    <tr style=\"text-align: right;\">\n",
       "      <th></th>\n",
       "      <th>VehicleAge</th>\n",
       "      <th>VehOdo</th>\n",
       "      <th>VNZIP1</th>\n",
       "      <th>WarrantyCost</th>\n",
       "      <th>Auction</th>\n",
       "      <th>Make</th>\n",
       "      <th>Size</th>\n",
       "      <th>IsOnlineSale</th>\n",
       "      <th>TopThreeAmericanName</th>\n",
       "      <th>VNST</th>\n",
       "      <th>Trim</th>\n",
       "      <th>Color</th>\n",
       "      <th>WheelType</th>\n",
       "      <th>Nationality</th>\n",
       "      <th>Transmission</th>\n",
       "      <th>IsBadBuy</th>\n",
       "      <th>MMR_factor_n</th>\n",
       "      <th>VehBCost_n</th>\n",
       "    </tr>\n",
       "  </thead>\n",
       "  <tbody>\n",
       "    <tr>\n",
       "      <th>0</th>\n",
       "      <td>2</td>\n",
       "      <td>61184</td>\n",
       "      <td>33619</td>\n",
       "      <td>533</td>\n",
       "      <td>ADESA</td>\n",
       "      <td>KIA</td>\n",
       "      <td>MEDIUM</td>\n",
       "      <td>0</td>\n",
       "      <td>OTHER</td>\n",
       "      <td>FL</td>\n",
       "      <td>EX</td>\n",
       "      <td>BLUE</td>\n",
       "      <td>Covers</td>\n",
       "      <td>OTHER ASIAN</td>\n",
       "      <td>AUTO</td>\n",
       "      <td>1</td>\n",
       "      <td>0.228606</td>\n",
       "      <td>0.167169</td>\n",
       "    </tr>\n",
       "    <tr>\n",
       "      <th>1</th>\n",
       "      <td>3</td>\n",
       "      <td>92383</td>\n",
       "      <td>32124</td>\n",
       "      <td>1630</td>\n",
       "      <td>MANHEIM</td>\n",
       "      <td>DODGE</td>\n",
       "      <td>MEDIUM</td>\n",
       "      <td>0</td>\n",
       "      <td>CHRYSLER</td>\n",
       "      <td>FL</td>\n",
       "      <td>SXT</td>\n",
       "      <td>SILVER</td>\n",
       "      <td>Covers</td>\n",
       "      <td>AMERICAN</td>\n",
       "      <td>AUTO</td>\n",
       "      <td>0</td>\n",
       "      <td>0.170015</td>\n",
       "      <td>0.109610</td>\n",
       "    </tr>\n",
       "    <tr>\n",
       "      <th>2</th>\n",
       "      <td>2</td>\n",
       "      <td>45965</td>\n",
       "      <td>74135</td>\n",
       "      <td>693</td>\n",
       "      <td>OTHER</td>\n",
       "      <td>DODGE</td>\n",
       "      <td>MEDIUM</td>\n",
       "      <td>0</td>\n",
       "      <td>CHRYSLER</td>\n",
       "      <td>OK</td>\n",
       "      <td>SE</td>\n",
       "      <td>BLACK</td>\n",
       "      <td>Covers</td>\n",
       "      <td>AMERICAN</td>\n",
       "      <td>AUTO</td>\n",
       "      <td>0</td>\n",
       "      <td>0.253618</td>\n",
       "      <td>0.205542</td>\n",
       "    </tr>\n",
       "    <tr>\n",
       "      <th>3</th>\n",
       "      <td>4</td>\n",
       "      <td>80169</td>\n",
       "      <td>85018</td>\n",
       "      <td>1633</td>\n",
       "      <td>OTHER</td>\n",
       "      <td>FORD</td>\n",
       "      <td>VAN</td>\n",
       "      <td>0</td>\n",
       "      <td>FORD</td>\n",
       "      <td>AZ</td>\n",
       "      <td>S</td>\n",
       "      <td>BROWN</td>\n",
       "      <td>Covers</td>\n",
       "      <td>AMERICAN</td>\n",
       "      <td>AUTO</td>\n",
       "      <td>0</td>\n",
       "      <td>0.163639</td>\n",
       "      <td>0.129481</td>\n",
       "    </tr>\n",
       "    <tr>\n",
       "      <th>4</th>\n",
       "      <td>4</td>\n",
       "      <td>77372</td>\n",
       "      <td>75236</td>\n",
       "      <td>1623</td>\n",
       "      <td>MANHEIM</td>\n",
       "      <td>CHRYSLER</td>\n",
       "      <td>VAN</td>\n",
       "      <td>0</td>\n",
       "      <td>CHRYSLER</td>\n",
       "      <td>TX</td>\n",
       "      <td>Bas</td>\n",
       "      <td>BLUE</td>\n",
       "      <td>Alloy</td>\n",
       "      <td>AMERICAN</td>\n",
       "      <td>AUTO</td>\n",
       "      <td>0</td>\n",
       "      <td>0.172436</td>\n",
       "      <td>0.155383</td>\n",
       "    </tr>\n",
       "  </tbody>\n",
       "</table>\n",
       "</div>"
      ],
      "text/plain": [
       "   VehicleAge  VehOdo  VNZIP1  WarrantyCost  Auction      Make    Size  \\\n",
       "0           2   61184   33619           533    ADESA       KIA  MEDIUM   \n",
       "1           3   92383   32124          1630  MANHEIM     DODGE  MEDIUM   \n",
       "2           2   45965   74135           693    OTHER     DODGE  MEDIUM   \n",
       "3           4   80169   85018          1633    OTHER      FORD     VAN   \n",
       "4           4   77372   75236          1623  MANHEIM  CHRYSLER     VAN   \n",
       "\n",
       "   IsOnlineSale TopThreeAmericanName VNST Trim   Color WheelType  Nationality  \\\n",
       "0             0                OTHER   FL   EX    BLUE    Covers  OTHER ASIAN   \n",
       "1             0             CHRYSLER   FL  SXT  SILVER    Covers     AMERICAN   \n",
       "2             0             CHRYSLER   OK   SE   BLACK    Covers     AMERICAN   \n",
       "3             0                 FORD   AZ    S   BROWN    Covers     AMERICAN   \n",
       "4             0             CHRYSLER   TX  Bas    BLUE     Alloy     AMERICAN   \n",
       "\n",
       "  Transmission  IsBadBuy  MMR_factor_n  VehBCost_n  \n",
       "0         AUTO         1      0.228606    0.167169  \n",
       "1         AUTO         0      0.170015    0.109610  \n",
       "2         AUTO         0      0.253618    0.205542  \n",
       "3         AUTO         0      0.163639    0.129481  \n",
       "4         AUTO         0      0.172436    0.155383  "
      ]
     },
     "execution_count": 2,
     "metadata": {},
     "output_type": "execute_result"
    }
   ],
   "source": [
    "df = pd.read_csv(\"training_cleaned.csv\", skipinitialspace=True, sep=',')\n",
    "df.head()"
   ]
  },
  {
   "cell_type": "code",
   "execution_count": 3,
   "metadata": {},
   "outputs": [
    {
     "name": "stdout",
     "output_type": "stream",
     "text": [
      "<class 'pandas.core.frame.DataFrame'>\n",
      "RangeIndex: 58386 entries, 0 to 58385\n",
      "Data columns (total 18 columns):\n",
      "VehicleAge              58386 non-null int64\n",
      "VehOdo                  58386 non-null int64\n",
      "VNZIP1                  58386 non-null int64\n",
      "WarrantyCost            58386 non-null int64\n",
      "Auction                 58386 non-null object\n",
      "Make                    58386 non-null object\n",
      "Size                    58386 non-null object\n",
      "IsOnlineSale            58386 non-null int64\n",
      "TopThreeAmericanName    58386 non-null object\n",
      "VNST                    58386 non-null object\n",
      "Trim                    58386 non-null object\n",
      "Color                   58386 non-null object\n",
      "WheelType               58386 non-null object\n",
      "Nationality             58386 non-null object\n",
      "Transmission            58386 non-null object\n",
      "IsBadBuy                58386 non-null int64\n",
      "MMR_factor_n            58386 non-null float64\n",
      "VehBCost_n              58386 non-null float64\n",
      "dtypes: float64(2), int64(6), object(10)\n",
      "memory usage: 8.0+ MB\n"
     ]
    }
   ],
   "source": [
    "df.info()"
   ]
  },
  {
   "cell_type": "code",
   "execution_count": 4,
   "metadata": {},
   "outputs": [
    {
     "data": {
      "text/plain": [
       "array([1, 0], dtype=int64)"
      ]
     },
     "execution_count": 4,
     "metadata": {},
     "output_type": "execute_result"
    }
   ],
   "source": [
    "df['IsBadBuy'].unique()"
   ]
  },
  {
   "cell_type": "markdown",
   "metadata": {},
   "source": [
    "#### Classification : "
   ]
  },
  {
   "cell_type": "code",
   "execution_count": 5,
   "metadata": {},
   "outputs": [],
   "source": [
    "#train and test for the cross validation before validating the model and test it with the real test.csv\n"
   ]
  },
  {
   "cell_type": "code",
   "execution_count": 5,
   "metadata": {},
   "outputs": [],
   "source": [
    "numerics = ['int16', 'int32', 'int64', 'float16', 'float32', 'float64']\n",
    "\n",
    "num_df = df.select_dtypes(include=numerics)"
   ]
  },
  {
   "cell_type": "code",
   "execution_count": 6,
   "metadata": {},
   "outputs": [
    {
     "data": {
      "text/plain": [
       "Index(['VehicleAge', 'VehOdo', 'VNZIP1', 'WarrantyCost', 'IsOnlineSale',\n",
       "       'MMR_factor_n', 'VehBCost_n'],\n",
       "      dtype='object')"
      ]
     },
     "execution_count": 6,
     "metadata": {},
     "output_type": "execute_result"
    }
   ],
   "source": [
    "attributes = [col for col in num_df.columns if col != 'IsBadBuy']\n",
    "# attributes = df.drop(['class'], axis=1).values\n",
    "\n",
    "X = num_df[attributes].values\n",
    "y = num_df['IsBadBuy']\n",
    "\n",
    "X_train, X_test, y_train, y_test = train_test_split(X, y, \n",
    "                                                    test_size=0.3, \n",
    "                                                    random_state=100, \n",
    "                                                    stratify=y)\n",
    "num_df[attributes].columns"
   ]
  },
  {
   "cell_type": "markdown",
   "metadata": {},
   "source": [
    "Decision Trees"
   ]
  },
  {
   "cell_type": "code",
   "execution_count": 7,
   "metadata": {},
   "outputs": [
    {
     "data": {
      "text/plain": [
       "DecisionTreeClassifier(class_weight=None, criterion='gini', max_depth=10,\n",
       "                       max_features=None, max_leaf_nodes=None,\n",
       "                       min_impurity_decrease=0.0, min_impurity_split=None,\n",
       "                       min_samples_leaf=1, min_samples_split=2,\n",
       "                       min_weight_fraction_leaf=0.0, presort=False,\n",
       "                       random_state=None, splitter='best')"
      ]
     },
     "execution_count": 7,
     "metadata": {},
     "output_type": "execute_result"
    }
   ],
   "source": [
    "clf = DecisionTreeClassifier(criterion='gini', max_depth=10, \n",
    "                             min_samples_split=2, \n",
    "                             min_samples_leaf=1)\n",
    "clf = clf.fit(X_train, y_train)\n",
    "clf"
   ]
  },
  {
   "cell_type": "code",
   "execution_count": 8,
   "metadata": {},
   "outputs": [
    {
     "name": "stdout",
     "output_type": "stream",
     "text": [
      "VehicleAge 0.2202769540448555\n",
      "VehOdo 0.16711850026490685\n",
      "VNZIP1 0.11788947314157337\n",
      "WarrantyCost 0.10947170213001825\n",
      "IsOnlineSale 0.0029494060509788114\n",
      "MMR_factor_n 0.17830899875967615\n",
      "VehBCost_n 0.20398496560799104\n"
     ]
    }
   ],
   "source": [
    "for col, imp in zip(attributes, clf.feature_importances_):\n",
    "    print(col, imp)"
   ]
  },
  {
   "cell_type": "code",
   "execution_count": 9,
   "metadata": {},
   "outputs": [],
   "source": [
    "import pydotplus\n",
    "from sklearn import tree\n",
    "from IPython.display import Image"
   ]
  },
  {
   "cell_type": "code",
   "execution_count": 11,
   "metadata": {},
   "outputs": [],
   "source": [
    "#dot_data = tree.export_graphviz(clf, out_file=None,  feature_names=attributes, class_names=clf.classes_,  \n",
    "#                                filled=True, rounded=True,  special_characters=True)  \n",
    "#graph = pydotplus.graph_from_dot_data(dot_data)  \n",
    "#Image(graph.create_png())"
   ]
  },
  {
   "cell_type": "code",
   "execution_count": 10,
   "metadata": {},
   "outputs": [],
   "source": [
    "y_pred = clf.predict(X_train)"
   ]
  },
  {
   "cell_type": "code",
   "execution_count": 11,
   "metadata": {},
   "outputs": [],
   "source": [
    "#help(f1_score)"
   ]
  },
  {
   "cell_type": "code",
   "execution_count": 12,
   "metadata": {},
   "outputs": [
    {
     "name": "stdout",
     "output_type": "stream",
     "text": [
      "Accuracy 0.8867139711279667\n",
      "F1-score 0.5683142734669733\n"
     ]
    }
   ],
   "source": [
    "print('Accuracy %s' % accuracy_score(y_train, y_pred))\n",
    "print('F1-score %s' % f1_score(y_train, y_pred, average='macro'))"
   ]
  },
  {
   "cell_type": "code",
   "execution_count": 13,
   "metadata": {},
   "outputs": [
    {
     "name": "stdout",
     "output_type": "stream",
     "text": [
      "              precision    recall  f1-score   support\n",
      "\n",
      "           0       0.89      1.00      0.94     35824\n",
      "           1       0.79      0.11      0.20      5046\n",
      "\n",
      "    accuracy                           0.89     40870\n",
      "   macro avg       0.84      0.55      0.57     40870\n",
      "weighted avg       0.88      0.89      0.85     40870\n",
      "\n"
     ]
    }
   ],
   "source": [
    "print(classification_report(y_train, y_pred))"
   ]
  },
  {
   "cell_type": "code",
   "execution_count": 14,
   "metadata": {},
   "outputs": [],
   "source": [
    "#help(confusion_matrix)"
   ]
  },
  {
   "cell_type": "code",
   "execution_count": 15,
   "metadata": {},
   "outputs": [
    {
     "data": {
      "text/plain": [
       "array([[35670,   154],\n",
       "       [ 4476,   570]], dtype=int64)"
      ]
     },
     "execution_count": 15,
     "metadata": {},
     "output_type": "execute_result"
    }
   ],
   "source": [
    "confusion_matrix(y_train, y_pred)"
   ]
  },
  {
   "cell_type": "code",
   "execution_count": 16,
   "metadata": {},
   "outputs": [],
   "source": [
    "y_pred = clf.predict(X_test)"
   ]
  },
  {
   "cell_type": "code",
   "execution_count": 17,
   "metadata": {},
   "outputs": [
    {
     "name": "stdout",
     "output_type": "stream",
     "text": [
      "Accuracy 0.8685202100936287\n",
      "F1-score 0.5012401134307612\n",
      "Recall 0.5134902938809378\n",
      "              precision    recall  f1-score   support\n",
      "\n",
      "           0       0.88      0.98      0.93     15354\n",
      "           1       0.28      0.04      0.07      2162\n",
      "\n",
      "    accuracy                           0.87     17516\n",
      "   macro avg       0.58      0.51      0.50     17516\n",
      "weighted avg       0.81      0.87      0.82     17516\n",
      "\n"
     ]
    },
    {
     "data": {
      "text/plain": [
       "array([[15122,   232],\n",
       "       [ 2071,    91]], dtype=int64)"
      ]
     },
     "execution_count": 17,
     "metadata": {},
     "output_type": "execute_result"
    }
   ],
   "source": [
    "print('Accuracy %s' % accuracy_score(y_test, y_pred))\n",
    "print('F1-score %s' % f1_score(y_test, y_pred, average='macro'))\n",
    "print('Recall %s' % recall_score(y_test, y_pred, average='macro'))\n",
    "\n",
    "print(classification_report(y_test, y_pred))\n",
    "conf_matrix = confusion_matrix(y_test, y_pred)\n",
    "conf_matrix"
   ]
  },
  {
   "cell_type": "code",
   "execution_count": null,
   "metadata": {},
   "outputs": [],
   "source": []
  },
  {
   "cell_type": "code",
   "execution_count": 18,
   "metadata": {},
   "outputs": [
    {
     "data": {
      "text/plain": [
       "<matplotlib.axes._subplots.AxesSubplot at 0x1ca8d9767b8>"
      ]
     },
     "execution_count": 18,
     "metadata": {},
     "output_type": "execute_result"
    },
    {
     "data": {
      "image/png": "[encoded data removed]",
      "text/plain": [
       "<Figure size 432x288 with 2 Axes>"
      ]
     },
     "metadata": {
      "needs_background": "light"
     },
     "output_type": "display_data"
    }
   ],
   "source": [
    "import seaborn as sns\n",
    "sns.heatmap(conf_matrix)"
   ]
  },
  {
   "cell_type": "markdown",
   "metadata": {},
   "source": [
    "###### Cross Valid"
   ]
  },
  {
   "cell_type": "code",
   "execution_count": 19,
   "metadata": {},
   "outputs": [],
   "source": [
    "from sklearn.model_selection import cross_val_score"
   ]
  },
  {
   "cell_type": "code",
   "execution_count": 20,
   "metadata": {},
   "outputs": [
    {
     "name": "stdout",
     "output_type": "stream",
     "text": [
      "Accuracy: 0.8703 (+/- 0.00)\n",
      "F1-score: 0.4917 (+/- 0.01)\n"
     ]
    }
   ],
   "source": [
    "scores = cross_val_score(clf, X, y, cv=10)\n",
    "print('Accuracy: %0.4f (+/- %0.2f)' % (scores.mean(), scores.std() * 2))\n",
    "\n",
    "scores = cross_val_score(clf, X, y, cv=10, scoring='f1_macro')\n",
    "print('F1-score: %0.4f (+/- %0.2f)' % (scores.mean(), scores.std() * 2))"
   ]
  },
  {
   "cell_type": "code",
   "execution_count": 21,
   "metadata": {},
   "outputs": [
    {
     "data": {
      "text/plain": [
       "\"scores = cross_val_score(clf, X, y, cv=100)\\nprint('Accuracy: %0.4f (+/- %0.2f)' % (scores.mean(), scores.std() * 2))\\n\\nscores = cross_val_score(clf, X, y, cv=100, scoring='f1_macro')\\nprint('F1-score: %0.4f (+/- %0.2f)' % (scores.mean(), scores.std() * 2))\""
      ]
     },
     "execution_count": 21,
     "metadata": {},
     "output_type": "execute_result"
    }
   ],
   "source": [
    "'''scores = cross_val_score(clf, X, y, cv=100)\n",
    "print('Accuracy: %0.4f (+/- %0.2f)' % (scores.mean(), scores.std() * 2))\n",
    "\n",
    "scores = cross_val_score(clf, X, y, cv=100, scoring='f1_macro')\n",
    "print('F1-score: %0.4f (+/- %0.2f)' % (scores.mean(), scores.std() * 2))'''"
   ]
  },
  {
   "cell_type": "code",
   "execution_count": 22,
   "metadata": {},
   "outputs": [],
   "source": [
    "#help(cross_val_score)"
   ]
  },
  {
   "cell_type": "markdown",
   "metadata": {},
   "source": [
    "# Grid Search"
   ]
  },
  {
   "cell_type": "code",
   "execution_count": 27,
   "metadata": {},
   "outputs": [],
   "source": [
    "# Function for reports on GridS"
   ]
  },
  {
   "cell_type": "code",
   "execution_count": 28,
   "metadata": {},
   "outputs": [],
   "source": [
    "def report(results, n_top=3):\n",
    "    for i in range(1, n_top + 1):\n",
    "        candidates = np.flatnonzero(results['rank_test_score'] == i)\n",
    "        for candidate in candidates:\n",
    "            print(\"Model with rank: {0}\".format(i))\n",
    "            print(\"Mean validation score: {0:.9f} (std: {1:.9f})\".format(\n",
    "                  results['mean_test_score'][candidate],\n",
    "                  results['std_test_score'][candidate]))\n",
    "            print(\"Parameters: {0}\".format(results['params'][candidate]))\n",
    "            print(\"\")"
   ]
  },
  {
   "cell_type": "code",
   "execution_count": 29,
   "metadata": {},
   "outputs": [],
   "source": [
    "param_list = {'criterion': ['gini','entropy'],\n",
    "              'max_depth': [None] + list(np.arange(2, 11)),\n",
    "              'min_samples_split': [2, 5, 10, 20],\n",
    "              'min_samples_leaf': [1, 2, 5, 10]}"
   ]
  },
  {
   "cell_type": "code",
   "execution_count": 30,
   "metadata": {},
   "outputs": [
    {
     "data": {
      "text/plain": [
       "\"DecisionTreeClassifier(criterion='gini', max_depth=10, \\n                             min_samples_split=2, \\n                             min_samples_leaf=1)\""
      ]
     },
     "execution_count": 30,
     "metadata": {},
     "output_type": "execute_result"
    }
   ],
   "source": [
    "'''DecisionTreeClassifier(criterion='gini', max_depth=10, \n",
    "                             min_samples_split=2, \n",
    "                             min_samples_leaf=1)'''"
   ]
  },
  {
   "cell_type": "code",
   "execution_count": 31,
   "metadata": {},
   "outputs": [],
   "source": [
    "#help(GridSearchCV)"
   ]
  },
  {
   "cell_type": "code",
   "execution_count": 32,
   "metadata": {},
   "outputs": [],
   "source": [
    "from sklearn.model_selection import GridSearchCV"
   ]
  },
  {
   "cell_type": "code",
   "execution_count": 33,
   "metadata": {},
   "outputs": [],
   "source": [
    "grid_search = GridSearchCV(clf, param_grid=param_list, cv=10, scoring='recall')#'precision', 'recall', 'roc_auc'"
   ]
  },
  {
   "cell_type": "code",
   "execution_count": 34,
   "metadata": {},
   "outputs": [
    {
     "data": {
      "text/plain": [
       "GridSearchCV(cv=10, error_score='raise-deprecating',\n",
       "             estimator=DecisionTreeClassifier(class_weight=None,\n",
       "                                              criterion='gini', max_depth=10,\n",
       "                                              max_features=None,\n",
       "                                              max_leaf_nodes=None,\n",
       "                                              min_impurity_decrease=0.0,\n",
       "                                              min_impurity_split=None,\n",
       "                                              min_samples_leaf=1,\n",
       "                                              min_samples_split=2,\n",
       "                                              min_weight_fraction_leaf=0.0,\n",
       "                                              presort=False, random_state=None,\n",
       "                                              splitter='best'),\n",
       "             iid='warn', n_jobs=None,\n",
       "             param_grid={'criterion': ['gini', 'entropy'],\n",
       "                         'max_depth': [None, 2, 3, 4, 5, 6, 7, 8, 9, 10],\n",
       "                         'min_samples_leaf': [1, 2, 5, 10],\n",
       "                         'min_samples_split': [2, 5, 10, 20]},\n",
       "             pre_dispatch='2*n_jobs', refit=True, return_train_score=False,\n",
       "             scoring='recall', verbose=0)"
      ]
     },
     "execution_count": 34,
     "metadata": {},
     "output_type": "execute_result"
    }
   ],
   "source": [
    "grid_search.fit(X_train, y_train)"
   ]
  },
  {
   "cell_type": "code",
   "execution_count": null,
   "metadata": {},
   "outputs": [],
   "source": []
  },
  {
   "cell_type": "code",
   "execution_count": 35,
   "metadata": {},
   "outputs": [
    {
     "data": {
      "text/plain": [
       "\"{'class_weight': None,\\n 'criterion': 'entropy',\\n 'max_depth': 4,\\n 'max_features': None,\\n 'max_leaf_nodes': None,\\n 'min_impurity_decrease': 0.0,\\n 'min_impurity_split': None,\\n 'min_samples_leaf': 5,\\n 'min_samples_split': 2,\\n 'min_weight_fraction_leaf': 0.0,\\n 'presort': False,\\n 'random_state': None,\\n 'splitter': 'best'}\""
      ]
     },
     "execution_count": 35,
     "metadata": {},
     "output_type": "execute_result"
    }
   ],
   "source": [
    "grid_search.best_estimator_.get_params()\n",
    "'''{'class_weight': None,\n",
    " 'criterion': 'entropy',\n",
    " 'max_depth': 4,\n",
    " 'max_features': None,\n",
    " 'max_leaf_nodes': None,\n",
    " 'min_impurity_decrease': 0.0,\n",
    " 'min_impurity_split': None,\n",
    " 'min_samples_leaf': 5,\n",
    " 'min_samples_split': 2,\n",
    " 'min_weight_fraction_leaf': 0.0,\n",
    " 'presort': False,\n",
    " 'random_state': None,\n",
    " 'splitter': 'best'}'''"
   ]
  },
  {
   "cell_type": "code",
   "execution_count": 23,
   "metadata": {},
   "outputs": [],
   "source": [
    "clf_best = DecisionTreeClassifier(criterion='entropy', max_depth=4, \n",
    "                             min_samples_split=10, \n",
    "                             min_samples_leaf=5)\n",
    "clf_best = clf_best.fit(X_train, y_train)\n",
    "\n",
    "clf_f = clf_best.fit(X_train, y_train)\n",
    "y_predf = clf_f.predict(X_train)"
   ]
  },
  {
   "cell_type": "code",
   "execution_count": 24,
   "metadata": {},
   "outputs": [
    {
     "name": "stdout",
     "output_type": "stream",
     "text": [
      "F1-score 0.46954860923219965\n",
      "Accuracy 0.8768289699045755\n"
     ]
    },
    {
     "data": {
      "text/plain": [
       "array([[35824,     0],\n",
       "       [ 5034,    12]], dtype=int64)"
      ]
     },
     "execution_count": 24,
     "metadata": {},
     "output_type": "execute_result"
    }
   ],
   "source": [
    "print('F1-score %s' % f1_score(y_train, y_predf, average='macro'))\n",
    "print('Accuracy %s' % accuracy_score(y_train, y_predf))\n",
    "confusion_matrix(y_train, y_predf)"
   ]
  },
  {
   "cell_type": "code",
   "execution_count": 25,
   "metadata": {},
   "outputs": [
    {
     "name": "stderr",
     "output_type": "stream",
     "text": [
      "C:\\Users\\thizi\\Anaconda3\\lib\\site-packages\\sklearn\\metrics\\classification.py:1437: UndefinedMetricWarning: F-score is ill-defined and being set to 0.0 due to no predicted samples.\n",
      "  'precision', 'predicted', average, warn_for)\n"
     ]
    },
    {
     "name": "stdout",
     "output_type": "stream",
     "text": [
      "[0.00277008 0.00825309 0.00277008 0.00276625 0.00277008 0.00277008\n",
      " 0.0055325  0.00552486 0.         0.00554017]\n",
      "F1-score: 0.0039 (+/- 0.00)\n"
     ]
    }
   ],
   "source": [
    "scores = cross_val_score(clf_f, X, y, cv=10, scoring='f1')\n",
    "print(scores)\n",
    "print('F1-score: %0.4f (+/- %0.2f)' % (scores.mean(), scores.std() * 2))"
   ]
  },
  {
   "cell_type": "code",
   "execution_count": 26,
   "metadata": {},
   "outputs": [
    {
     "name": "stdout",
     "output_type": "stream",
     "text": [
      "Accuracy 0.8770838090888331\n",
      "F1-score 0.4713863572104608\n",
      "              precision    recall  f1-score   support\n",
      "\n",
      "           0       0.88      1.00      0.93     15354\n",
      "           1       1.00      0.00      0.01      2162\n",
      "\n",
      "    accuracy                           0.88     17516\n",
      "   macro avg       0.94      0.50      0.47     17516\n",
      "weighted avg       0.89      0.88      0.82     17516\n",
      "\n"
     ]
    },
    {
     "data": {
      "text/plain": [
       "array([[15354,     0],\n",
       "       [ 2153,     9]], dtype=int64)"
      ]
     },
     "execution_count": 26,
     "metadata": {},
     "output_type": "execute_result"
    }
   ],
   "source": [
    "y_pred_tf = clf_f.predict(X_test)\n",
    "print('Accuracy %s' % accuracy_score(y_test, y_pred_tf))\n",
    "print('F1-score %s' % f1_score(y_test, y_pred_tf, average='macro'))\n",
    "print(classification_report(y_test, y_pred_tf))\n",
    "conf_matrix = confusion_matrix(y_test, y_pred_tf)\n",
    "conf_matrix"
   ]
  },
  {
   "cell_type": "code",
   "execution_count": 27,
   "metadata": {},
   "outputs": [
    {
     "name": "stdout",
     "output_type": "stream",
     "text": [
      "Recall [1.         0.00416281]\n"
     ]
    }
   ],
   "source": [
    "print('Recall %s' % recall_score(y_test, y_pred_tf, average=None))\n"
   ]
  },
  {
   "cell_type": "code",
   "execution_count": 40,
   "metadata": {},
   "outputs": [],
   "source": [
    "import pydotplus\n",
    "from sklearn import tree\n",
    "from IPython.display import Image"
   ]
  },
  {
   "cell_type": "code",
   "execution_count": 41,
   "metadata": {},
   "outputs": [],
   "source": [
    "import os\n",
    "#os.environ['PATH'] += os.pathsep + 'C:/Users/thizi/Anaconda3/Lib/site-packages/graphviz-0.13.2.dist-info'"
   ]
  },
  {
   "cell_type": "code",
   "execution_count": 42,
   "metadata": {},
   "outputs": [
    {
     "data": {
      "image/png": "[encoded data removed]",
      "text/plain": [
       "<IPython.core.display.Image object>"
      ]
     },
     "execution_count": 42,
     "metadata": {},
     "output_type": "execute_result"
    }
   ],
   "source": [
    "dot_data = tree.export_graphviz(clf_f, out_file=None,  \n",
    "                                feature_names=attributes,   \n",
    "                                filled=True, rounded=True,  \n",
    "                                special_characters=True,max_depth=3)  \n",
    "graph = pydotplus.graph_from_dot_data(dot_data)  \n",
    "Image(graph.create_png())"
   ]
  },
  {
   "cell_type": "markdown",
   "metadata": {},
   "source": [
    "### Dummification of categorical variables to include them in the DT"
   ]
  },
  {
   "cell_type": "markdown",
   "metadata": {},
   "source": [
    "TopThreeAmericanName"
   ]
  },
  {
   "cell_type": "code",
   "execution_count": 28,
   "metadata": {},
   "outputs": [],
   "source": [
    "values, counts = np.unique(df['TopThreeAmericanName'], return_counts=True)"
   ]
  },
  {
   "cell_type": "code",
   "execution_count": 29,
   "metadata": {},
   "outputs": [
    {
     "data": {
      "text/plain": [
       "array(['CHRYSLER', 'FORD', 'GM', 'OTHER'], dtype=object)"
      ]
     },
     "execution_count": 29,
     "metadata": {},
     "output_type": "execute_result"
    }
   ],
   "source": [
    "values"
   ]
  },
  {
   "cell_type": "code",
   "execution_count": 30,
   "metadata": {},
   "outputs": [],
   "source": [
    "df['Top3_CHRYSLER'] = 0\n",
    "df['Top3_FORD'] = 0\n",
    "df['Top3_GM'] = 0\n",
    "df['Top3_Other'] = 0"
   ]
  },
  {
   "cell_type": "code",
   "execution_count": 31,
   "metadata": {},
   "outputs": [],
   "source": [
    "dico = {\"CHRYSLER\":\"Top3_CHRYSLER\",\"FORD\":\"Top3_FORD\", \"GM\":\"Top3_GM\", \"OTHER\":\"Top3_Other\"}"
   ]
  },
  {
   "cell_type": "code",
   "execution_count": 32,
   "metadata": {},
   "outputs": [],
   "source": [
    "for keys in dico.keys():\n",
    "    for index, row in df.iterrows():\n",
    "        myString = df['TopThreeAmericanName'][index].lower()\n",
    "        if (myString.find(keys.lower()) > -1):\n",
    "            (df.loc[(index, dico[keys])]) = 1"
   ]
  },
  {
   "cell_type": "code",
   "execution_count": 33,
   "metadata": {},
   "outputs": [
    {
     "data": {
      "text/html": [
       "<div>\n",
       "<style scoped>\n",
       "    .dataframe tbody tr th:only-of-type {\n",
       "        vertical-align: middle;\n",
       "    }\n",
       "\n",
       "    .dataframe tbody tr th {\n",
       "        vertical-align: top;\n",
       "    }\n",
       "\n",
       "    .dataframe thead th {\n",
       "        text-align: right;\n",
       "    }\n",
       "</style>\n",
       "<table border=\"1\" class=\"dataframe\">\n",
       "  <thead>\n",
       "    <tr style=\"text-align: right;\">\n",
       "      <th></th>\n",
       "      <th>VehicleAge</th>\n",
       "      <th>VehOdo</th>\n",
       "      <th>VNZIP1</th>\n",
       "      <th>WarrantyCost</th>\n",
       "      <th>Auction</th>\n",
       "      <th>Make</th>\n",
       "      <th>Size</th>\n",
       "      <th>IsOnlineSale</th>\n",
       "      <th>TopThreeAmericanName</th>\n",
       "      <th>VNST</th>\n",
       "      <th>...</th>\n",
       "      <th>WheelType</th>\n",
       "      <th>Nationality</th>\n",
       "      <th>Transmission</th>\n",
       "      <th>IsBadBuy</th>\n",
       "      <th>MMR_factor_n</th>\n",
       "      <th>VehBCost_n</th>\n",
       "      <th>Top3_CHRYSLER</th>\n",
       "      <th>Top3_FORD</th>\n",
       "      <th>Top3_GM</th>\n",
       "      <th>Top3_Other</th>\n",
       "    </tr>\n",
       "  </thead>\n",
       "  <tbody>\n",
       "    <tr>\n",
       "      <th>0</th>\n",
       "      <td>2</td>\n",
       "      <td>61184</td>\n",
       "      <td>33619</td>\n",
       "      <td>533</td>\n",
       "      <td>ADESA</td>\n",
       "      <td>KIA</td>\n",
       "      <td>MEDIUM</td>\n",
       "      <td>0</td>\n",
       "      <td>OTHER</td>\n",
       "      <td>FL</td>\n",
       "      <td>...</td>\n",
       "      <td>Covers</td>\n",
       "      <td>OTHER ASIAN</td>\n",
       "      <td>AUTO</td>\n",
       "      <td>1</td>\n",
       "      <td>0.228606</td>\n",
       "      <td>0.167169</td>\n",
       "      <td>0</td>\n",
       "      <td>0</td>\n",
       "      <td>0</td>\n",
       "      <td>1</td>\n",
       "    </tr>\n",
       "    <tr>\n",
       "      <th>1</th>\n",
       "      <td>3</td>\n",
       "      <td>92383</td>\n",
       "      <td>32124</td>\n",
       "      <td>1630</td>\n",
       "      <td>MANHEIM</td>\n",
       "      <td>DODGE</td>\n",
       "      <td>MEDIUM</td>\n",
       "      <td>0</td>\n",
       "      <td>CHRYSLER</td>\n",
       "      <td>FL</td>\n",
       "      <td>...</td>\n",
       "      <td>Covers</td>\n",
       "      <td>AMERICAN</td>\n",
       "      <td>AUTO</td>\n",
       "      <td>0</td>\n",
       "      <td>0.170015</td>\n",
       "      <td>0.109610</td>\n",
       "      <td>1</td>\n",
       "      <td>0</td>\n",
       "      <td>0</td>\n",
       "      <td>0</td>\n",
       "    </tr>\n",
       "  </tbody>\n",
       "</table>\n",
       "<p>2 rows × 22 columns</p>\n",
       "</div>"
      ],
      "text/plain": [
       "   VehicleAge  VehOdo  VNZIP1  WarrantyCost  Auction   Make    Size  \\\n",
       "0           2   61184   33619           533    ADESA    KIA  MEDIUM   \n",
       "1           3   92383   32124          1630  MANHEIM  DODGE  MEDIUM   \n",
       "\n",
       "   IsOnlineSale TopThreeAmericanName VNST  ... WheelType  Nationality  \\\n",
       "0             0                OTHER   FL  ...    Covers  OTHER ASIAN   \n",
       "1             0             CHRYSLER   FL  ...    Covers     AMERICAN   \n",
       "\n",
       "  Transmission IsBadBuy MMR_factor_n  VehBCost_n  Top3_CHRYSLER  Top3_FORD  \\\n",
       "0         AUTO        1     0.228606    0.167169              0          0   \n",
       "1         AUTO        0     0.170015    0.109610              1          0   \n",
       "\n",
       "   Top3_GM  Top3_Other  \n",
       "0        0           1  \n",
       "1        0           0  \n",
       "\n",
       "[2 rows x 22 columns]"
      ]
     },
     "execution_count": 33,
     "metadata": {},
     "output_type": "execute_result"
    }
   ],
   "source": [
    "df.head(2)"
   ]
  },
  {
   "cell_type": "markdown",
   "metadata": {},
   "source": [
    "Auction"
   ]
  },
  {
   "cell_type": "code",
   "execution_count": 34,
   "metadata": {},
   "outputs": [],
   "source": [
    "values, counts = np.unique(df['Auction'], return_counts=True)"
   ]
  },
  {
   "cell_type": "code",
   "execution_count": 35,
   "metadata": {},
   "outputs": [
    {
     "data": {
      "text/plain": [
       "array(['ADESA', 'MANHEIM', 'OTHER'], dtype=object)"
      ]
     },
     "execution_count": 35,
     "metadata": {},
     "output_type": "execute_result"
    }
   ],
   "source": [
    "values"
   ]
  },
  {
   "cell_type": "code",
   "execution_count": 36,
   "metadata": {},
   "outputs": [],
   "source": [
    "df['Auction_ADESA'] = 0\n",
    "df['Auction_MANHEIM'] = 0\n",
    "df['Auction_Other'] = 0"
   ]
  },
  {
   "cell_type": "code",
   "execution_count": 37,
   "metadata": {},
   "outputs": [],
   "source": [
    "dico = {\"ADESA\":\"Auction_ADESA\",\"MANHEIM\":\"Auction_MANHEIM\", \"OTHER\":\"Auction_Other\"}"
   ]
  },
  {
   "cell_type": "code",
   "execution_count": 38,
   "metadata": {},
   "outputs": [],
   "source": [
    "for keys in dico.keys():\n",
    "    for index, row in df.iterrows():\n",
    "        myString = df['Auction'][index].lower()\n",
    "        if (myString.find(keys.lower()) > -1):\n",
    "            (df.loc[(index, dico[keys])]) = 1"
   ]
  },
  {
   "cell_type": "markdown",
   "metadata": {},
   "source": [
    "Make"
   ]
  },
  {
   "cell_type": "code",
   "execution_count": 39,
   "metadata": {},
   "outputs": [],
   "source": [
    "values, counts = np.unique(df['Make'], return_counts=True)"
   ]
  },
  {
   "cell_type": "code",
   "execution_count": 40,
   "metadata": {},
   "outputs": [
    {
     "data": {
      "text/plain": [
       "array(['ACURA', 'BUICK', 'CADILLAC', 'CHEVROLET', 'CHRYSLER', 'DODGE',\n",
       "       'FORD', 'GMC', 'HONDA', 'HUMMER', 'HYUNDAI', 'INFINITI', 'ISUZU',\n",
       "       'JEEP', 'KIA', 'LEXUS', 'LINCOLN', 'MAZDA', 'MERCURY', 'MINI',\n",
       "       'MITSUBISHI', 'NISSAN', 'OLDSMOBILE', 'PLYMOUTH', 'PONTIAC',\n",
       "       'SATURN', 'SCION', 'SUBARU', 'SUZUKI', 'TOYOTA', 'TOYOTA SCION',\n",
       "       'VOLKSWAGEN', 'VOLVO'], dtype=object)"
      ]
     },
     "execution_count": 40,
     "metadata": {},
     "output_type": "execute_result"
    }
   ],
   "source": [
    "values"
   ]
  },
  {
   "cell_type": "code",
   "execution_count": 41,
   "metadata": {},
   "outputs": [
    {
     "data": {
      "text/plain": [
       "array([   25,   562,    25, 13842,  7093, 10355,  9000,   502,   407,\n",
       "           1,  1444,    36,   110,  1287,  2006,    27,    80,   774,\n",
       "         739,    17,   822,  1687,   198,     1,  3421,  1698,   102,\n",
       "          22,  1062,   905,     1,   104,    31], dtype=int64)"
      ]
     },
     "execution_count": 41,
     "metadata": {},
     "output_type": "execute_result"
    }
   ],
   "source": [
    "counts"
   ]
  },
  {
   "cell_type": "code",
   "execution_count": 42,
   "metadata": {},
   "outputs": [],
   "source": [
    "df['Make_CHEVROLET'] = 0\n",
    "df['Make_CHRYSLER'] = 0\n",
    "df['Make_DODGE'] = 0\n",
    "df['Make_FORD'] = 0\n",
    "df['Make_HYUNDAI'] = 0\n",
    "df['Make_JEEP'] = 0\n",
    "df['Make_KIA'] = 0\n",
    "df['Make_NISSAN'] = 0\n",
    "df['Make_PONTIAC'] = 0\n",
    "df['Make_SATURN'] = 0\n",
    "df['Make_SUZUKI'] = 0\n",
    "df['Make_Other'] = 0"
   ]
  },
  {
   "cell_type": "code",
   "execution_count": 43,
   "metadata": {},
   "outputs": [],
   "source": [
    "dico = {\"CHEVROLET\":\"Make_CHEVROLET\",\"CHRYSLER\":\"Make_CHRYSLER\", \"DODGE\":\"Make_DODGE\",\"FORD\":\"Make_FORD\",\\\n",
    "        \"HYUNDAI\":\"Make_HYUNDAI\", \"JEEP\":\"Make_JEEP\",\"KIA\":\"Make_KIA\",\"NISSAN\":\"Make_NISSAN\", \"PONTIAC\":\"Make_PONTIAC\",\\\n",
    "        \"SATURN\":\"Make_SATURN\",\"SUZUKI\":\"Make_SUZUKI\", \"ACURA\":\"Make_Other\",\"BUICK\":\"Make_Other\",\"CADILLAC\":\"Make_Other\",\"GMC\":\"Make_Other\",\\\n",
    "        \"HONDA\":\"Make_Other\",\"HUMMER\":\"Make_Other\",\"INFINITI\":\"Make_Other\",\"ISUZU\":\"Make_Other\",\"LEXUS\":\"Make_Other\",\\\n",
    "        \"LINCOLN\":\"Make_Other\",\"MAZDA\":\"Make_Other\",\\\n",
    "        \"MERCURY\":\"Make_Other\",\"MINI\":\"Make_Other\",\"MITSUBISHI\":\"Make_Other\",\\\n",
    "        \"OLDSMOBILE\":\"Make_Other\",\"PLYMOUTH\":\"Make_Other\",\"SCION\":\"Make_Other\",\\\n",
    "        \"SUBARU\":\"Make_Other\",\"TOYOTA\":\"Make_Other\",\"TOYOTA SCION\":\"Make_Other\",\"VOLKSWAGEN\":\"Make_Other\",\"VOLVO\":\"Make_Other\"}"
   ]
  },
  {
   "cell_type": "code",
   "execution_count": 44,
   "metadata": {},
   "outputs": [],
   "source": [
    "for keys in dico.keys():\n",
    "    for index, row in df.iterrows():\n",
    "        myString = df['Make'][index].lower()\n",
    "        if (myString.find(keys.lower()) > -1):\n",
    "            (df.loc[(index, dico[keys])]) = 1"
   ]
  },
  {
   "cell_type": "markdown",
   "metadata": {},
   "source": [
    "Size"
   ]
  },
  {
   "cell_type": "code",
   "execution_count": 45,
   "metadata": {},
   "outputs": [],
   "source": [
    "values, counts = np.unique(df['Size'], return_counts=True)"
   ]
  },
  {
   "cell_type": "code",
   "execution_count": 46,
   "metadata": {},
   "outputs": [
    {
     "data": {
      "text/plain": [
       "array(['COMPACT', 'CROSSOVER', 'LARGE', 'LARGE SUV', 'LARGE TRUCK',\n",
       "       'MEDIUM', 'MEDIUM SUV', 'SMALL SUV', 'SMALL TRUCK', 'SPECIALTY',\n",
       "       'SPORTS', 'VAN'], dtype=object)"
      ]
     },
     "execution_count": 46,
     "metadata": {},
     "output_type": "execute_result"
    }
   ],
   "source": [
    "values"
   ]
  },
  {
   "cell_type": "code",
   "execution_count": 47,
   "metadata": {},
   "outputs": [
    {
     "data": {
      "text/plain": [
       "array([ 5764,  1419,  7120,  1157,  2554, 24648,  6398,  1805,   696,\n",
       "        1527,   621,  4677], dtype=int64)"
      ]
     },
     "execution_count": 47,
     "metadata": {},
     "output_type": "execute_result"
    }
   ],
   "source": [
    "counts"
   ]
  },
  {
   "cell_type": "code",
   "execution_count": 48,
   "metadata": {},
   "outputs": [],
   "source": [
    "df['Size_COMPACT'] = 0\n",
    "df['Size_CROSSOVER'] = 0\n",
    "df['Size_LARGE'] = 0\n",
    "df['Size_LARGE_SUV'] = 0\n",
    "df['Size_LARGE_TRUCK'] = 0\n",
    "df['Size_MEDIUM'] = 0\n",
    "df['Size_MEDIUM_SUV'] = 0\n",
    "df['Size_SMALL_SUV'] = 0\n",
    "df['Size_SMALL_TRUCK'] = 0\n",
    "df['Size_SPECIALTY'] = 0\n",
    "df['Size_SPORTS'] = 0\n",
    "df['Size_VAN'] = 0"
   ]
  },
  {
   "cell_type": "code",
   "execution_count": 49,
   "metadata": {},
   "outputs": [],
   "source": [
    "dico = {\"COMPACT\":\"Size_COMPACT\",\"CROSSOVER\":\"Size_CROSSOVER\",\"LARGE\":\"Size_LARGE\",\"LARGE SUV\":\"Size_LARGE_SUV\",\\\n",
    "        \"LARGE TRUCK\":\"Size_LARGE_TRUCK\",\"MEDIUM\":\"Size_MEDIUM\",\"MEDIUM SUV\":\"Size_MEDIUM_SUV\",\"SMALL SUV\":\"Size_SMALL_SUV\",\\\n",
    "        \"SMALL TRUCK\":\"Size_SMALL_TRUCK\",\"SPECIALTY\":\"Size_SPECIALTY\",\"SPORTS\":\"Size_SPORTS\",\"VAN\":\"Size_VAN\",}"
   ]
  },
  {
   "cell_type": "code",
   "execution_count": 50,
   "metadata": {},
   "outputs": [],
   "source": [
    "for keys in dico.keys():\n",
    "    for index, row in df.iterrows():\n",
    "        myString = df['Size'][index].lower()\n",
    "        if (myString.find(keys.lower()) > -1):\n",
    "            (df.loc[(index, dico[keys])]) = 1"
   ]
  },
  {
   "cell_type": "code",
   "execution_count": 62,
   "metadata": {},
   "outputs": [],
   "source": [
    "num_df = df.select_dtypes(include=numerics)\n",
    "attributes = [col for col in num_df.columns if col != 'IsBadBuy']\n",
    "# attributes = df.drop(['class'], axis=1).values\n",
    "\n",
    "X = num_df[attributes].values\n",
    "y = num_df['IsBadBuy']\n",
    "\n",
    "X_train_dummy, X_test_dummy, y_train_dummy, y_test_dummy = train_test_split(X, y, \n",
    "                                                    test_size=0.3, \n",
    "                                                    random_state=100, \n",
    "                                                    stratify=y)"
   ]
  },
  {
   "cell_type": "code",
   "execution_count": 186,
   "metadata": {},
   "outputs": [
    {
     "name": "stdout",
     "output_type": "stream",
     "text": [
      "VehicleAge 0.1999254162065881\n",
      "VehOdo 0.11986751450146096\n",
      "VNZIP1 0.11160713162468942\n",
      "WarrantyCost 0.10122586001008951\n",
      "IsOnlineSale 0.003360405576330519\n",
      "MMR_factor_n 0.12037084359508533\n",
      "VehBCost_n 0.20936812978832609\n",
      "Top3_CHRYSLER 0.002991706864068716\n",
      "Top3_FORD 0.00822519373567635\n",
      "Top3_GM 0.0012565391451951529\n",
      "Top3_Other 0.003121627979144654\n",
      "Auction_ADESA 0.01216202579370492\n",
      "Auction_MANHEIM 0.012649213906421621\n",
      "Auction_Other 0.00932553345265446\n",
      "Make_CHEVROLET 0.006939279005494827\n",
      "Make_CHRYSLER 0.0022805573185503266\n",
      "Make_DODGE 0.0056253588726746405\n",
      "Make_FORD 0.007117172763515455\n",
      "Make_HYUNDAI 0.003211719272271464\n",
      "Make_JEEP 0.0038347709632698904\n",
      "Make_KIA 0.004606709540686409\n",
      "Make_NISSAN 0.004044536088715167\n",
      "Make_PONTIAC 0.008184495899117928\n",
      "Make_SATURN 0.0013942340393721779\n",
      "Make_SUZUKI 0.005933669569185247\n",
      "Make_Other 0.004688563393223944\n",
      "Size_COMPACT 0.002672519445934571\n",
      "Size_CROSSOVER 0.0\n",
      "Size_LARGE 0.004260311247225201\n",
      "Size_LARGE_SUV 0.0017194277557463311\n",
      "Size_LARGE_TRUCK 0.0031552772944862884\n",
      "Size_MEDIUM 0.005796689354009824\n",
      "Size_MEDIUM_SUV 0.0\n",
      "Size_SMALL_SUV 0.0\n",
      "Size_SMALL_TRUCK 0.0029298324947996984\n",
      "Size_SPECIALTY 0.002756558115452599\n",
      "Size_SPORTS 0.0013298727007184901\n",
      "Size_VAN 0.0020613026861136608\n"
     ]
    },
    {
     "data": {
      "text/plain": [
       "array([ True,  True,  True,  True, False,  True,  True, False, False,\n",
       "       False, False, False, False, False, False, False, False, False,\n",
       "       False, False, False, False, False, False, False, False, False,\n",
       "       False, False, False, False, False, False, False, False, False,\n",
       "       False, False])"
      ]
     },
     "execution_count": 186,
     "metadata": {},
     "output_type": "execute_result"
    }
   ],
   "source": [
    "clf = DecisionTreeClassifier(criterion='gini', max_depth=10, \n",
    "                             min_samples_split=4, \n",
    "                             min_samples_leaf=2)\n",
    "clf = clf.fit(X_train_dummy, y_train_dummy)\n",
    "for col, imp in zip(attributes, clf.feature_importances_):\n",
    "    print(col, imp)\n",
    "clf.feature_importances_>0.1"
   ]
  },
  {
   "cell_type": "code",
   "execution_count": 182,
   "metadata": {},
   "outputs": [],
   "source": [
    "y_pred_dummy = clf.predict(X_train_dummy)"
   ]
  },
  {
   "cell_type": "code",
   "execution_count": 185,
   "metadata": {},
   "outputs": [
    {
     "name": "stdout",
     "output_type": "stream",
     "text": [
      "Accuracy 0.8882065084413996\n",
      "F1-score 0.5859720419393326\n"
     ]
    }
   ],
   "source": [
    "print('Accuracy %s' % accuracy_score(y_train_dummy, y_pred_dummy))\n",
    "print('F1-score %s' % f1_score(y_train_dummy, y_pred_dummy, average='macro'))\n",
    "#On passe de 0.19 a 0.23 au F1 score"
   ]
  },
  {
   "cell_type": "code",
   "execution_count": 184,
   "metadata": {},
   "outputs": [
    {
     "data": {
      "image/png": "[encoded data removed]",
      "text/plain": [
       "<IPython.core.display.Image object>"
      ]
     },
     "execution_count": 184,
     "metadata": {},
     "output_type": "execute_result"
    }
   ],
   "source": [
    "dot_data = tree.export_graphviz(clf, out_file=None,  \n",
    "                                feature_names=attributes,   \n",
    "                                filled=True, rounded=True,  \n",
    "                                special_characters=True,max_depth=3)  \n",
    "graph = pydotplus.graph_from_dot_data(dot_data)  \n",
    "Image(graph.create_png())"
   ]
  },
  {
   "cell_type": "code",
   "execution_count": null,
   "metadata": {},
   "outputs": [],
   "source": [
    "param_list = {'criterion': ['gini','entropy'],\n",
    "              'max_depth': [None] + list(np.arange(2, 11)),\n",
    "              'min_samples_split': [2, 5, 10, 20],\n",
    "              'min_samples_leaf': [1, 2, 5, 10]}\n",
    "grid_search = GridSearchCV(clf, param_grid=param_list, cv=10, scoring='recall')#'precision', 'recall', 'roc_auc'\n",
    "grid_search.fit(X_train, y_train)\n",
    "grid_search.best_estimator_.get_params()\n"
   ]
  },
  {
   "cell_type": "markdown",
   "metadata": {},
   "source": [
    "# Handling Imbalanced Data to improve results"
   ]
  },
  {
   "cell_type": "code",
   "execution_count": 63,
   "metadata": {},
   "outputs": [],
   "source": [
    "from sklearn.utils import resample"
   ]
  },
  {
   "cell_type": "code",
   "execution_count": 64,
   "metadata": {},
   "outputs": [
    {
     "data": {
      "text/plain": [
       "(51178, 49)"
      ]
     },
     "execution_count": 64,
     "metadata": {},
     "output_type": "execute_result"
    }
   ],
   "source": [
    "# Separate majority and minority classes\n",
    "df_majority = df[df.IsBadBuy==0]\n",
    "df_minority = df[df.IsBadBuy==1]\n",
    "df_majority.shape"
   ]
  },
  {
   "cell_type": "code",
   "execution_count": 72,
   "metadata": {},
   "outputs": [],
   "source": [
    "#help(resample)"
   ]
  },
  {
   "cell_type": "code",
   "execution_count": 65,
   "metadata": {},
   "outputs": [
    {
     "data": {
      "text/plain": [
       "1    51178\n",
       "0    51178\n",
       "Name: IsBadBuy, dtype: int64"
      ]
     },
     "execution_count": 65,
     "metadata": {},
     "output_type": "execute_result"
    }
   ],
   "source": [
    "# Upsample minority class\n",
    "df_minority_upsampled = resample(df_minority, \n",
    "                                 replace=True,     # sample with replacement\n",
    "                                 n_samples=51178,    # to match majority class\n",
    "                                 random_state=42) # reproducible results\n",
    " \n",
    "# Combine majority class with upsampled minority class\n",
    "df_upsampled = pd.concat([df_majority, df_minority_upsampled])\n",
    " \n",
    "# Display new class counts\n",
    "df_upsampled.IsBadBuy.value_counts()"
   ]
  },
  {
   "cell_type": "code",
   "execution_count": 66,
   "metadata": {},
   "outputs": [],
   "source": [
    "numerics = ['int16', 'int32', 'int64', 'float16', 'float32', 'float64']\n",
    "\n",
    "num_df_upsampled = df_upsampled.select_dtypes(include=numerics)\n",
    "\n",
    "attributes = [col for col in num_df_upsampled.columns if col != 'IsBadBuy']\n",
    "# attributes = df.drop(['class'], axis=1).values\n",
    "\n",
    "X = num_df_upsampled[attributes].values\n",
    "y = num_df_upsampled['IsBadBuy']\n",
    "\n",
    "X_train_up, X_test_up, y_train_up, y_test_up = train_test_split(X, y, \n",
    "                                                    test_size=0.3, \n",
    "                                                    random_state=100, \n",
    "                                                    stratify=y)"
   ]
  },
  {
   "cell_type": "code",
   "execution_count": null,
   "metadata": {},
   "outputs": [],
   "source": []
  },
  {
   "cell_type": "code",
   "execution_count": 83,
   "metadata": {},
   "outputs": [
    {
     "name": "stdout",
     "output_type": "stream",
     "text": [
      "VehicleAge 0.12538282539371085\n",
      "VehOdo 0.17725830781374832\n",
      "VNZIP1 0.11787366226741011\n",
      "WarrantyCost 0.08334358813299231\n",
      "IsOnlineSale 0.0018938321355642562\n",
      "MMR_factor_n 0.1820576699450294\n",
      "VehBCost_n 0.17316607354291633\n",
      "Top3_CHRYSLER 0.003885488256229538\n",
      "Top3_FORD 0.0037550961873919556\n",
      "Top3_GM 0.007316803983349941\n",
      "Top3_Other 0.004461610779053243\n",
      "Auction_ADESA 0.008379189640694685\n",
      "Auction_MANHEIM 0.013738033799935817\n",
      "Auction_Other 0.00784553516615633\n",
      "Make_CHEVROLET 0.00674875233412669\n",
      "Make_CHRYSLER 0.0053978774785320835\n",
      "Make_DODGE 0.009886855565920212\n",
      "Make_FORD 0.003884052180255796\n",
      "Make_HYUNDAI 0.0029736360550204964\n",
      "Make_JEEP 0.001848760483191952\n",
      "Make_KIA 0.0028017407689079946\n",
      "Make_NISSAN 0.0021028867435236164\n",
      "Make_PONTIAC 0.0043364191014149695\n",
      "Make_SATURN 0.0031563181831378425\n",
      "Make_SUZUKI 0.002668230513601778\n",
      "Make_Other 0.006894737614968264\n",
      "Size_COMPACT 0.00710035998978193\n",
      "Size_CROSSOVER 0.002587592421673346\n",
      "Size_LARGE 0.0028794082253652165\n",
      "Size_LARGE_SUV 0.000871190825962963\n",
      "Size_LARGE_TRUCK 0.001887518874133889\n",
      "Size_MEDIUM 0.006744532497419623\n",
      "Size_MEDIUM_SUV 0.005643557823440469\n",
      "Size_SMALL_SUV 0.002953783155383365\n",
      "Size_SMALL_TRUCK 0.0010490656344688339\n",
      "Size_SPECIALTY 0.0017242271722253798\n",
      "Size_SPORTS 0.0012025329104062635\n",
      "Size_VAN 0.002298246402953832\n"
     ]
    }
   ],
   "source": [
    "clf = DecisionTreeClassifier(criterion='gini', max_depth=10, \n",
    "                             min_samples_split=2, \n",
    "                             min_samples_leaf=1)\n",
    "clf = clf.fit(X_train_up, y_train_up)\n",
    "for col, imp in zip(attributes, clf.feature_importances_):\n",
    "    print(col, imp)"
   ]
  },
  {
   "cell_type": "code",
   "execution_count": 84,
   "metadata": {},
   "outputs": [],
   "source": [
    "y_pred = clf.predict(X_train_up)"
   ]
  },
  {
   "cell_type": "code",
   "execution_count": 85,
   "metadata": {},
   "outputs": [
    {
     "name": "stdout",
     "output_type": "stream",
     "text": [
      "Accuracy 0.7929350025820319\n",
      "F1-score 0.7929350025820319\n",
      "F1-score 0.7926442408946079\n",
      "AUC-score 0.792934480099187\n"
     ]
    }
   ],
   "source": [
    "print('Accuracy %s' % accuracy_score(y_train_up, y_pred))\n",
    "print('F1-score %s' % f1_score(y_train_up, y_pred, average='micro'))\n",
    "print('F1-score %s' % f1_score(y_train_up, y_pred, average='macro'))\n",
    "print('AUC-score %s' % roc_auc_score(y_train_up, y_pred))\n"
   ]
  },
  {
   "cell_type": "code",
   "execution_count": 70,
   "metadata": {},
   "outputs": [],
   "source": [
    "y_pred_ts = clf.predict(X_test_up)"
   ]
  },
  {
   "cell_type": "code",
   "execution_count": 78,
   "metadata": {},
   "outputs": [
    {
     "name": "stdout",
     "output_type": "stream",
     "text": [
      "Accuracy 0.9226560719054288\n",
      "F1-score 0.9226560719054288\n",
      "F1-score 0.9222635540697018\n"
     ]
    }
   ],
   "source": [
    "print('Accuracy %s' % accuracy_score(y_test_up, y_pred_ts))\n",
    "print('F1-score %s' % f1_score(y_test_up, y_pred_ts, average='micro'))\n",
    "print('F1-score %s' % f1_score(y_test_up, y_pred_ts, average='macro'))"
   ]
  },
  {
   "cell_type": "markdown",
   "metadata": {},
   "source": [
    "Let's try the model on the real training and test set (although training it on the real train set is going to make it biased, since it already knows almost all the information inside probably)"
   ]
  },
  {
   "cell_type": "code",
   "execution_count": 79,
   "metadata": {},
   "outputs": [
    {
     "name": "stdout",
     "output_type": "stream",
     "text": [
      "Accuracy 0.993075605578664\n",
      "F1-score [0.9960378  0.97256423]\n"
     ]
    }
   ],
   "source": [
    "y_pred_tr_true = clf.predict(X_train_dummy)\n",
    "print('Accuracy %s' % accuracy_score(y_train_dummy, y_pred_tr_true))\n",
    "print('F1-score %s' % f1_score(y_train_dummy, y_pred_tr_true, average=None))"
   ]
  },
  {
   "cell_type": "code",
   "execution_count": 81,
   "metadata": {},
   "outputs": [
    {
     "name": "stdout",
     "output_type": "stream",
     "text": [
      "Accuracy 0.6274834437086093\n",
      "F1-score [0.7447283 0.3110548]\n"
     ]
    }
   ],
   "source": [
    "y_pred_ts_true = clf.predict(X_test_dummy)\n",
    "print('Accuracy %s' % accuracy_score(y_test_dummy, y_pred_ts_true))\n",
    "print('F1-score %s' % f1_score(y_test_dummy, y_pred_ts_true, average=None))"
   ]
  },
  {
   "cell_type": "code",
   "execution_count": 82,
   "metadata": {},
   "outputs": [
    {
     "data": {
      "text/plain": [
       "array([[9518, 5836],\n",
       "       [ 689, 1473]], dtype=int64)"
      ]
     },
     "execution_count": 82,
     "metadata": {},
     "output_type": "execute_result"
    }
   ],
   "source": [
    "confusion_matrix(y_test, y_pred_ts_true)"
   ]
  },
  {
   "cell_type": "code",
   "execution_count": 83,
   "metadata": {},
   "outputs": [
    {
     "name": "stdout",
     "output_type": "stream",
     "text": [
      "Accuracy 0.6477611940298508\n",
      "F1-score [0.76150558 0.32659744]\n"
     ]
    },
    {
     "data": {
      "text/plain": [
       "array([[22983, 12841],\n",
       "       [ 1555,  3491]], dtype=int64)"
      ]
     },
     "execution_count": 83,
     "metadata": {},
     "output_type": "execute_result"
    }
   ],
   "source": [
    "y_pred_tr_true = clf.predict(X_train_dummy)\n",
    "print('Accuracy %s' % accuracy_score(y_train_dummy, y_pred_tr_true))\n",
    "print('F1-score %s' % f1_score(y_train_dummy, y_pred_tr_true, average=None))\n",
    "confusion_matrix(y_train_dummy, y_pred_tr_true)"
   ]
  },
  {
   "cell_type": "markdown",
   "metadata": {},
   "source": [
    "Obviously this didn't work even if we have 0.1 more in the F1 score. We will move to other algorithms.\n",
    "\n",
    "# RANDOM FOREST"
   ]
  },
  {
   "cell_type": "code",
   "execution_count": 84,
   "metadata": {},
   "outputs": [],
   "source": [
    "from sklearn.ensemble import RandomForestClassifier"
   ]
  },
  {
   "cell_type": "code",
   "execution_count": 85,
   "metadata": {},
   "outputs": [
    {
     "name": "stderr",
     "output_type": "stream",
     "text": [
      "C:\\Users\\thizi\\Anaconda3\\lib\\site-packages\\sklearn\\ensemble\\forest.py:245: FutureWarning: The default value of n_estimators will change from 10 in version 0.20 to 100 in 0.22.\n",
      "  \"10 in version 0.20 to 100 in 0.22.\", FutureWarning)\n"
     ]
    },
    {
     "name": "stdout",
     "output_type": "stream",
     "text": [
      "[0 1]\n",
      "0.9990230149757847\n"
     ]
    }
   ],
   "source": [
    "# Train model\n",
    "clf_RF = RandomForestClassifier()\n",
    "clf_RF.fit(X_train_up, y_train_up)\n",
    " \n",
    "# Predict on training set\n",
    "pred_y_RF_tr_up = clf_RF.predict(X_train_up)\n",
    " \n",
    "# Is our model still predicting just one class?\n",
    "print( np.unique( pred_y_RF_tr_up ) )\n",
    "# [0 1]\n",
    " \n",
    "# How's our accuracy?\n",
    "print( accuracy_score(y_train_up, pred_y_RF_tr_up) )\n",
    "# 0.9744"
   ]
  },
  {
   "cell_type": "code",
   "execution_count": 86,
   "metadata": {},
   "outputs": [
    {
     "name": "stdout",
     "output_type": "stream",
     "text": [
      "Accuracy 0.9990230149757847\n",
      "F1-score [0.99902306 0.99902297]\n"
     ]
    }
   ],
   "source": [
    "print('Accuracy %s' % accuracy_score(y_train_up, pred_y_RF_tr_up))\n",
    "print('F1-score %s' % f1_score(y_train_up, pred_y_RF_tr_up, average=None))"
   ]
  },
  {
   "cell_type": "code",
   "execution_count": 87,
   "metadata": {},
   "outputs": [
    {
     "name": "stdout",
     "output_type": "stream",
     "text": [
      "Accuracy 0.9608232650535709\n",
      "F1-score [0.95972683 0.96186159]\n"
     ]
    }
   ],
   "source": [
    "pred_y_RF_ts_up = clf_RF.predict(X_test_up)\n",
    "\n",
    "print('Accuracy %s' % accuracy_score(y_test_up, pred_y_RF_ts_up))\n",
    "print('F1-score %s' % f1_score(y_test_up, pred_y_RF_ts_up, average=None))"
   ]
  },
  {
   "cell_type": "code",
   "execution_count": 88,
   "metadata": {},
   "outputs": [
    {
     "name": "stdout",
     "output_type": "stream",
     "text": [
      "('VehicleAge', 0.27581170177209685)\n",
      "('VehOdo', 0.12557580700668422)\n",
      "('VNZIP1', 0.08543626809604772)\n",
      "('WarrantyCost', 0.05822309468224961)\n",
      "('IsOnlineSale', 0.00028513977173729365)\n",
      "('MMR_factor_n', 0.1441985441512693)\n",
      "('VehBCost_n', 0.17198386688595185)\n",
      "('Top3_CHRYSLER', 0.0020442157393067493)\n",
      "('Top3_FORD', 0.0045377151290818514)\n",
      "('Top3_GM', 0.013936933553008847)\n",
      "('Top3_Other', 0.0031064913146460556)\n",
      "('Auction_ADESA', 0.009623797172357649)\n",
      "('Auction_MANHEIM', 0.024093626307962974)\n",
      "('Auction_Other', 0.008117751054311166)\n",
      "('Make_CHEVROLET', 0.0058187493039740384)\n",
      "('Make_CHRYSLER', 0.0)\n",
      "('Make_DODGE', 0.01572785533190554)\n",
      "('Make_FORD', 0.0032266272152786627)\n",
      "('Make_HYUNDAI', 0.0023657918848779443)\n",
      "('Make_JEEP', 0.003667786432438425)\n",
      "('Make_KIA', 0.0007572944262924426)\n",
      "('Make_NISSAN', 0.003910022850090081)\n",
      "('Make_PONTIAC', 0.0039094744742422085)\n",
      "('Make_SATURN', 0.0031875824540124726)\n",
      "('Make_SUZUKI', 0.003484477594351145)\n",
      "('Make_Other', 0.0005002531879784131)\n",
      "('Size_COMPACT', 0.00210190820954389)\n",
      "('Size_CROSSOVER', 0.005525854155863797)\n",
      "('Size_LARGE', 0.002842548515830816)\n",
      "('Size_LARGE_SUV', 0.0005327257556538631)\n",
      "('Size_LARGE_TRUCK', 0.0)\n",
      "('Size_MEDIUM', 0.004585458542259668)\n",
      "('Size_MEDIUM_SUV', 0.007021769359415925)\n",
      "('Size_SMALL_SUV', 0.0018081839476319994)\n",
      "('Size_SMALL_TRUCK', 0.0007711916093334386)\n",
      "('Size_SPECIALTY', 0.0)\n",
      "('Size_SPORTS', 0.0004642538858954238)\n",
      "('Size_VAN', 0.0008152382264176277)\n"
     ]
    }
   ],
   "source": [
    "for feature in zip(attributes, clf.feature_importances_):\n",
    "    print(feature)"
   ]
  },
  {
   "cell_type": "markdown",
   "metadata": {},
   "source": [
    "And on the original (non sampled data set?)"
   ]
  },
  {
   "cell_type": "code",
   "execution_count": 89,
   "metadata": {},
   "outputs": [
    {
     "name": "stdout",
     "output_type": "stream",
     "text": [
      "Accuracy 0.9464489609499885\n",
      "F1-score [0.96854038 0.82016871]\n"
     ]
    },
    {
     "data": {
      "text/plain": [
       "array([[14439,   915],\n",
       "       [   23,  2139]], dtype=int64)"
      ]
     },
     "execution_count": 89,
     "metadata": {},
     "output_type": "execute_result"
    }
   ],
   "source": [
    "y_pred_ts_true = clf_RF.predict(X_test_dummy)\n",
    "print('Accuracy %s' % accuracy_score(y_test_dummy, y_pred_ts_true))\n",
    "print('F1-score %s' % f1_score(y_test_dummy, y_pred_ts_true, average=None))\n",
    "\n",
    "confusion_matrix(y_test_dummy, y_pred_ts_true)"
   ]
  },
  {
   "cell_type": "markdown",
   "metadata": {},
   "source": [
    "#  <span style=\"color:red\">I should do a *grid search* here /!\\ Do not forget</span>"
   ]
  },
  {
   "cell_type": "markdown",
   "metadata": {},
   "source": [
    "## Let's try again RF but with the original dataset without upsampling"
   ]
  },
  {
   "cell_type": "code",
   "execution_count": 90,
   "metadata": {},
   "outputs": [
    {
     "name": "stderr",
     "output_type": "stream",
     "text": [
      "C:\\Users\\thizi\\Anaconda3\\lib\\site-packages\\sklearn\\ensemble\\forest.py:245: FutureWarning: The default value of n_estimators will change from 10 in version 0.20 to 100 in 0.22.\n",
      "  \"10 in version 0.20 to 100 in 0.22.\", FutureWarning)\n"
     ]
    },
    {
     "name": "stdout",
     "output_type": "stream",
     "text": [
      "[0 1]\n",
      "0.9796917054073893\n",
      "F1-score [0.98854762 0.91042521]\n"
     ]
    },
    {
     "data": {
      "text/plain": [
       "\"For grid search ?\\n# creteria\\ncriterion = ['entropy','gini']\\n# Number of trees in random forest\\nn_estimators = [int(x) for x in (10,100,10)]\\n# Number of features to consider at every split\\nmax_features = [None,'auto']\\n# Maximum number of levels in tree\\nmax_depth = [int(x) for x in np.linspace(10, 110, num = 11)]\\nmax_depth.append(None)\\n# Minimum number of samples to split a node\\nmin_samples_split = [2, 5, 10]\\n# Minimum number of samples required at each leaf node\\nmin_samples_leaf = [1, 2, 4]\\n# selecting samples for training each tree\\nbootstrap = [True, False]\""
      ]
     },
     "execution_count": 90,
     "metadata": {},
     "output_type": "execute_result"
    }
   ],
   "source": [
    "# Train model\n",
    "clf_RF_nonup = RandomForestClassifier()\n",
    "clf_RF_nonup.fit(X_train, y_train)\n",
    " \n",
    "# Predict on training set\n",
    "pred_y_RF_tr = clf_RF_nonup.predict(X_train)\n",
    " \n",
    "# Is our model still predicting just one class?\n",
    "print( np.unique( pred_y_RF_tr) )\n",
    "# [0 1]\n",
    " \n",
    "# How's our accuracy?\n",
    "print( accuracy_score(y_train, pred_y_RF_tr) )\n",
    "# 0.9744\n",
    "print('F1-score %s' % f1_score(y_train, pred_y_RF_tr, average=None))\n",
    "\n",
    "'''For grid search ?\n",
    "# creteria\n",
    "criterion = ['entropy','gini']\n",
    "# Number of trees in random forest\n",
    "n_estimators = [int(x) for x in (10,100,10)]\n",
    "# Number of features to consider at every split\n",
    "max_features = [None,'auto']\n",
    "# Maximum number of levels in tree\n",
    "max_depth = [int(x) for x in np.linspace(10, 110, num = 11)]\n",
    "max_depth.append(None)\n",
    "# Minimum number of samples to split a node\n",
    "min_samples_split = [2, 5, 10]\n",
    "# Minimum number of samples required at each leaf node\n",
    "min_samples_leaf = [1, 2, 4]\n",
    "# selecting samples for training each tree\n",
    "bootstrap = [True, False]'''"
   ]
  },
  {
   "cell_type": "code",
   "execution_count": 91,
   "metadata": {},
   "outputs": [
    {
     "name": "stdout",
     "output_type": "stream",
     "text": [
      "Accuracy 0.870918017812286\n",
      "F1-score [0.93073553 0.0535789 ]\n"
     ]
    }
   ],
   "source": [
    "pred_y_RF_ts = clf_RF_nonup.predict(X_test)\n",
    "\n",
    "print('Accuracy %s' % accuracy_score(y_test, pred_y_RF_ts))\n",
    "print('F1-score %s' % f1_score(y_test, pred_y_RF_ts, average=None))"
   ]
  },
  {
   "cell_type": "code",
   "execution_count": 92,
   "metadata": {},
   "outputs": [],
   "source": [
    "# Very bad result! We will keep the upsampled one!"
   ]
  },
  {
   "cell_type": "code",
   "execution_count": 93,
   "metadata": {},
   "outputs": [
    {
     "data": {
      "text/plain": [
       "\"For grid search ?\\n# creteria\\ncriterion = ['entropy','gini']\\n# Number of trees in random forest\\nn_estimators = [int(x) for x in (10,100,10)]\\n# Number of features to consider at every split\\nmax_features = [None,'auto']\\n# Maximum number of levels in tree\\nmax_depth = [int(x) for x in np.linspace(10, 110, num = 11)]\\nmax_depth.append(None)\\n# Minimum number of samples to split a node\\nmin_samples_split = [2, 5, 10]\\n# Minimum number of samples required at each leaf node\\nmin_samples_leaf = [1, 2, 4]\\n# selecting samples for training each tree\\nbootstrap = [True, False]\""
      ]
     },
     "execution_count": 93,
     "metadata": {},
     "output_type": "execute_result"
    }
   ],
   "source": [
    "'''For grid search ?\n",
    "# creteria\n",
    "criterion = ['entropy','gini']\n",
    "# Number of trees in random forest\n",
    "n_estimators = [int(x) for x in (10,100,10)]\n",
    "# Number of features to consider at every split\n",
    "max_features = [None,'auto']\n",
    "# Maximum number of levels in tree\n",
    "max_depth = [int(x) for x in np.linspace(10, 110, num = 11)]\n",
    "max_depth.append(None)\n",
    "# Minimum number of samples to split a node\n",
    "min_samples_split = [2, 5, 10]\n",
    "# Minimum number of samples required at each leaf node\n",
    "min_samples_leaf = [1, 2, 4]\n",
    "# selecting samples for training each tree\n",
    "bootstrap = [True, False]'''"
   ]
  },
  {
   "cell_type": "code",
   "execution_count": null,
   "metadata": {},
   "outputs": [],
   "source": []
  },
  {
   "cell_type": "markdown",
   "metadata": {},
   "source": [
    "# Let's try the RF model on the real test set and see results on Kaggle"
   ]
  },
  {
   "cell_type": "code",
   "execution_count": 51,
   "metadata": {},
   "outputs": [
    {
     "name": "stdout",
     "output_type": "stream",
     "text": [
      "<class 'pandas.core.frame.DataFrame'>\n",
      "RangeIndex: 14597 entries, 0 to 14596\n",
      "Data columns (total 34 columns):\n",
      "RefId                                14597 non-null int64\n",
      "IsBadBuy                             14597 non-null int64\n",
      "PurchDate                            14597 non-null object\n",
      "Auction                              14597 non-null object\n",
      "VehYear                              14597 non-null int64\n",
      "VehicleAge                           14597 non-null int64\n",
      "Make                                 14597 non-null object\n",
      "Model                                14597 non-null object\n",
      "Trim                                 14148 non-null object\n",
      "SubModel                             14596 non-null object\n",
      "Color                                14596 non-null object\n",
      "Transmission                         14596 non-null object\n",
      "WheelTypeID                          14001 non-null float64\n",
      "WheelType                            14000 non-null object\n",
      "VehOdo                               14597 non-null int64\n",
      "Nationality                          14596 non-null object\n",
      "Size                                 14596 non-null object\n",
      "TopThreeAmericanName                 14596 non-null object\n",
      "MMRAcquisitionAuctionAveragePrice    14592 non-null float64\n",
      "MMRAcquisitionAuctionCleanPrice      14592 non-null float64\n",
      "MMRAcquisitionRetailAveragePrice     14592 non-null float64\n",
      "MMRAcquisitonRetailCleanPrice        14592 non-null float64\n",
      "MMRCurrentAuctionAveragePrice        14527 non-null float64\n",
      "MMRCurrentAuctionCleanPrice          14527 non-null float64\n",
      "MMRCurrentRetailAveragePrice         14527 non-null float64\n",
      "MMRCurrentRetailCleanPrice           14527 non-null float64\n",
      "PRIMEUNIT                            736 non-null object\n",
      "AUCGUART                             736 non-null object\n",
      "BYRNO                                14597 non-null int64\n",
      "VNZIP1                               14597 non-null int64\n",
      "VNST                                 14597 non-null object\n",
      "VehBCost                             14597 non-null float64\n",
      "IsOnlineSale                         14597 non-null int64\n",
      "WarrantyCost                         14597 non-null int64\n",
      "dtypes: float64(10), int64(9), object(15)\n",
      "memory usage: 3.8+ MB\n"
     ]
    }
   ],
   "source": [
    "df_test = pd.read_csv(\"test.csv\", skipinitialspace=True, sep=',')\n",
    "df_test.info()"
   ]
  },
  {
   "cell_type": "code",
   "execution_count": 95,
   "metadata": {},
   "outputs": [],
   "source": [
    "# First, We'll apply all the variables transformation we did for the training set"
   ]
  },
  {
   "cell_type": "code",
   "execution_count": 96,
   "metadata": {},
   "outputs": [
    {
     "data": {
      "text/plain": [
       "RefId                                    0\n",
       "IsBadBuy                                 0\n",
       "PurchDate                                0\n",
       "Auction                                  0\n",
       "VehYear                                  0\n",
       "VehicleAge                               0\n",
       "Make                                     0\n",
       "Model                                    0\n",
       "Trim                                   449\n",
       "SubModel                                 1\n",
       "Color                                    1\n",
       "Transmission                             1\n",
       "WheelTypeID                            596\n",
       "WheelType                              597\n",
       "VehOdo                                   0\n",
       "Nationality                              1\n",
       "Size                                     1\n",
       "TopThreeAmericanName                     1\n",
       "MMRAcquisitionAuctionAveragePrice        5\n",
       "MMRAcquisitionAuctionCleanPrice          5\n",
       "MMRAcquisitionRetailAveragePrice         5\n",
       "MMRAcquisitonRetailCleanPrice            5\n",
       "MMRCurrentAuctionAveragePrice           70\n",
       "MMRCurrentAuctionCleanPrice             70\n",
       "MMRCurrentRetailAveragePrice            70\n",
       "MMRCurrentRetailCleanPrice              70\n",
       "PRIMEUNIT                            13861\n",
       "AUCGUART                             13861\n",
       "BYRNO                                    0\n",
       "VNZIP1                                   0\n",
       "VNST                                     0\n",
       "VehBCost                                 0\n",
       "IsOnlineSale                             0\n",
       "WarrantyCost                             0\n",
       "dtype: int64"
      ]
     },
     "execution_count": 96,
     "metadata": {},
     "output_type": "execute_result"
    }
   ],
   "source": [
    "df_test.isnull().sum()"
   ]
  },
  {
   "cell_type": "code",
   "execution_count": 52,
   "metadata": {},
   "outputs": [],
   "source": [
    "df_test[df_test['Size'].isnull()]\n",
    "df_test['Size'].mode()[0]\n",
    "df_test['Size'].fillna(df_test['Size'].mode()[0], inplace = True)\n",
    "#df.Size.isnull().sum()\n",
    "\n",
    "\n",
    "df_test[df_test['TopThreeAmericanName'].isnull()]\n",
    "df_test['TopThreeAmericanName'].mode()[0]\n",
    "df_test['TopThreeAmericanName'].fillna(df_test['TopThreeAmericanName'].mode()[0], inplace = True)\n",
    "#df.TopThreeAmericanName.isnull().sum()\n",
    "\n",
    "\n",
    "df_test['MMRAcquisitionAuctionAveragePrice'].fillna(df_test['MMRAcquisitionAuctionAveragePrice'].median(), inplace = True)\n",
    "df_test['MMRAcquisitionAuctionCleanPrice'].fillna(df_test['MMRAcquisitionAuctionCleanPrice'].median(), inplace = True)\n",
    "df_test['MMRAcquisitionRetailAveragePrice'].fillna(df_test['MMRAcquisitionRetailAveragePrice'].median(), inplace = True)\n",
    "df_test['MMRAcquisitonRetailCleanPrice'].fillna(df_test['MMRAcquisitonRetailCleanPrice'].median(), inplace = True)\n",
    "df_test['MMRCurrentAuctionAveragePrice'].fillna(df_test['MMRCurrentAuctionAveragePrice'].median(), inplace = True)\n",
    "df_test['MMRCurrentAuctionCleanPrice'].fillna(df_test['MMRCurrentAuctionCleanPrice'].median(), inplace = True)\n",
    "df_test['MMRCurrentRetailAveragePrice'].fillna(df_test['MMRCurrentRetailAveragePrice'].median(), inplace = True)\n",
    "df_test['MMRCurrentRetailCleanPrice'].fillna(df_test['MMRCurrentRetailCleanPrice'].median(), inplace = True)\n",
    "\n",
    "\n",
    "df_test['WheelType'].unique()\n",
    "df_test['WheelType'].mode()[0]\n",
    "df_test['WheelType'].fillna(df_test['WheelType'].mode()[0], inplace = True)\n",
    "#df.WheelType.isnull().sum()\n",
    "#WheelTypeID not useful, we won't handle their missing values\n",
    "\n",
    "\n",
    "df_test['Trim'].unique()\n",
    "df_test['Trim'].mode()[0]\n",
    "df_test['Trim'].fillna(df_test['Trim'].mode()[0], inplace = True)\n",
    "df_test.Trim.isnull().sum()\n",
    "\n",
    "\n",
    "drop_column = ['WheelTypeID', 'PRIMEUNIT', 'AUCGUART']\n",
    "df_test.drop(drop_column, axis=1, inplace = True) # it modifies the dataframe directly\n",
    "\n",
    "\n",
    "df_test['Transmission'].unique()\n",
    "df_test['Transmission'].mode()[0]\n",
    "df_test['Transmission'].fillna(df_test['Transmission'].mode()[0], inplace = True)\n",
    "\n",
    "\n",
    "df_test['SubModel'].unique()\n",
    "df_test['SubModel'].mode()[0]\n",
    "df_test['SubModel'].fillna(df_test['SubModel'].mode()[0], inplace = True)\n",
    "\n",
    "\n",
    "df_test['Color'].unique()\n",
    "df_test['Color'].mode()[0]\n",
    "df_test['Color'].fillna(df_test['Color'].mode()[0], inplace = True)\n",
    "\n",
    "\n",
    "df_test['Nationality'].unique()\n",
    "df_test['Nationality'].mode()[0]\n",
    "df_test['Nationality'].fillna(df_test['Nationality'].mode()[0], inplace = True)"
   ]
  },
  {
   "cell_type": "code",
   "execution_count": 98,
   "metadata": {},
   "outputs": [
    {
     "data": {
      "text/plain": [
       "RefId                                0\n",
       "IsBadBuy                             0\n",
       "PurchDate                            0\n",
       "Auction                              0\n",
       "VehYear                              0\n",
       "VehicleAge                           0\n",
       "Make                                 0\n",
       "Model                                0\n",
       "Trim                                 0\n",
       "SubModel                             0\n",
       "Color                                0\n",
       "Transmission                         0\n",
       "WheelType                            0\n",
       "VehOdo                               0\n",
       "Nationality                          0\n",
       "Size                                 0\n",
       "TopThreeAmericanName                 0\n",
       "MMRAcquisitionAuctionAveragePrice    0\n",
       "MMRAcquisitionAuctionCleanPrice      0\n",
       "MMRAcquisitionRetailAveragePrice     0\n",
       "MMRAcquisitonRetailCleanPrice        0\n",
       "MMRCurrentAuctionAveragePrice        0\n",
       "MMRCurrentAuctionCleanPrice          0\n",
       "MMRCurrentRetailAveragePrice         0\n",
       "MMRCurrentRetailCleanPrice           0\n",
       "BYRNO                                0\n",
       "VNZIP1                               0\n",
       "VNST                                 0\n",
       "VehBCost                             0\n",
       "IsOnlineSale                         0\n",
       "WarrantyCost                         0\n",
       "dtype: int64"
      ]
     },
     "execution_count": 98,
     "metadata": {},
     "output_type": "execute_result"
    }
   ],
   "source": [
    "df_test.isnull().sum()"
   ]
  },
  {
   "cell_type": "code",
   "execution_count": 53,
   "metadata": {},
   "outputs": [],
   "source": [
    "df_new = df_test.loc[:,['RefId', 'VehicleAge', 'VehBCost', 'VehOdo', 'VNZIP1', 'WarrantyCost', 'Auction', 'Make', 'Size',\\\n",
    "                      'IsOnlineSale', 'TopThreeAmericanName', 'VNST', 'Trim', 'Color', 'WheelType', 'Nationality',\\\n",
    "                      'Transmission', 'IsBadBuy']]\n"
   ]
  },
  {
   "cell_type": "code",
   "execution_count": 100,
   "metadata": {},
   "outputs": [
    {
     "data": {
      "text/plain": [
       "(14597, 18)"
      ]
     },
     "execution_count": 100,
     "metadata": {},
     "output_type": "execute_result"
    }
   ],
   "source": [
    "df_new.shape"
   ]
  },
  {
   "cell_type": "code",
   "execution_count": 54,
   "metadata": {},
   "outputs": [],
   "source": [
    "df_new.loc[:,'MMR_factor'] = 0\n",
    "df_new.loc[:,'MMR_factor'] = ( df_test['MMRAcquisitionAuctionAveragePrice'] + df_test['MMRAcquisitonRetailCleanPrice'] + df_test['MMRCurrentAuctionCleanPrice'] + df_test['MMRCurrentRetailAveragePrice']) / 4\n"
   ]
  },
  {
   "cell_type": "code",
   "execution_count": 55,
   "metadata": {},
   "outputs": [],
   "source": [
    "df_new['MMR_factor_n'] = ( df_new['MMR_factor'] - df_new['MMR_factor'].min() ) / ( df_new['MMR_factor'].max() - df_new['MMR_factor'].min() )\n",
    "df_new.drop(['MMR_factor'], axis=1, inplace = True)\n"
   ]
  },
  {
   "cell_type": "code",
   "execution_count": 103,
   "metadata": {},
   "outputs": [
    {
     "data": {
      "text/plain": [
       "0        0.299290\n",
       "1        0.320368\n",
       "2        0.103499\n",
       "3        0.181926\n",
       "4        0.201926\n",
       "5        0.188109\n",
       "6        0.294791\n",
       "7        0.113090\n",
       "8        0.336973\n",
       "9        0.171987\n",
       "10       0.162730\n",
       "11       0.237081\n",
       "12       0.164802\n",
       "13       0.093587\n",
       "14       0.254559\n",
       "15       0.196528\n",
       "16       0.267108\n",
       "17       0.132695\n",
       "18       0.371235\n",
       "19       0.197223\n",
       "20       0.227926\n",
       "21       0.292153\n",
       "22       0.354390\n",
       "23       0.100125\n",
       "24       0.466547\n",
       "25       0.190863\n",
       "26       0.179138\n",
       "27       0.172703\n",
       "28       0.302065\n",
       "29       0.142777\n",
       "           ...   \n",
       "14567    0.221988\n",
       "14568    0.164496\n",
       "14569    0.336742\n",
       "14570    0.203378\n",
       "14571    0.071419\n",
       "14572    0.237510\n",
       "14573    0.278486\n",
       "14574    0.170637\n",
       "14575    0.177938\n",
       "14576    0.352407\n",
       "14577    0.149594\n",
       "14578    0.271682\n",
       "14579    0.272350\n",
       "14580    0.162723\n",
       "14581    0.250980\n",
       "14582    0.000000\n",
       "14583    0.266406\n",
       "14584    0.243550\n",
       "14585    0.189384\n",
       "14586    0.361078\n",
       "14587    0.121973\n",
       "14588    0.149096\n",
       "14589    0.222902\n",
       "14590    0.246283\n",
       "14591    0.212213\n",
       "14592    0.215294\n",
       "14593    0.239044\n",
       "14594    0.096239\n",
       "14595    0.238812\n",
       "14596    0.272794\n",
       "Name: MMR_factor_n, Length: 14597, dtype: float64"
      ]
     },
     "execution_count": 103,
     "metadata": {},
     "output_type": "execute_result"
    }
   ],
   "source": [
    "df_new.MMR_factor_n"
   ]
  },
  {
   "cell_type": "code",
   "execution_count": 56,
   "metadata": {},
   "outputs": [],
   "source": [
    "df_new['VehBCost_n'] = ( df_new['VehBCost'] - df_new['VehBCost'].min() ) / ( df_new['VehBCost'].max() - df_new['VehBCost'].min() )\n",
    "df_new.drop(['VehBCost'], axis=1, inplace = True)"
   ]
  },
  {
   "cell_type": "code",
   "execution_count": 57,
   "metadata": {},
   "outputs": [
    {
     "data": {
      "text/plain": [
       "array(['GM', 'FORD', 'CHRYSLER', 'OTHER'], dtype=object)"
      ]
     },
     "execution_count": 57,
     "metadata": {},
     "output_type": "execute_result"
    }
   ],
   "source": [
    "df_new['TopThreeAmericanName'].unique()\n"
   ]
  },
  {
   "cell_type": "code",
   "execution_count": null,
   "metadata": {},
   "outputs": [],
   "source": []
  },
  {
   "cell_type": "code",
   "execution_count": 58,
   "metadata": {},
   "outputs": [],
   "source": [
    "values, counts = np.unique(df_new['TopThreeAmericanName'], return_counts=True)\n",
    "df_new['Top3_CHRYSLER'] = 0\n",
    "df_new['Top3_FORD'] = 0\n",
    "df_new['Top3_GM'] = 0\n",
    "df_new['Top3_Other'] = 0\n",
    "dico = {\"CHRYSLER\":\"Top3_CHRYSLER\",\"FORD\":\"Top3_FORD\", \"GM\":\"Top3_GM\", \"OTHER\":\"Top3_Other\"}\n",
    "for keys in dico.keys():\n",
    "    for index, row in df_new.iterrows():\n",
    "        myString = df_new['TopThreeAmericanName'][index].lower()\n",
    "        if (myString.find(keys.lower()) > -1):\n",
    "            (df_new.loc[(index, dico[keys])]) = 1\n",
    "            \n",
    "\n",
    "values, counts = np.unique(df_new['Auction'], return_counts=True)\n",
    "df_new['Auction_ADESA'] = 0\n",
    "df_new['Auction_MANHEIM'] = 0\n",
    "df_new['Auction_Other'] = 0\n",
    "dico = {\"ADESA\":\"Auction_ADESA\",\"MANHEIM\":\"Auction_MANHEIM\", \"OTHER\":\"Auction_Other\"}\n",
    "for keys in dico.keys():\n",
    "    for index, row in df_new.iterrows():\n",
    "        myString = df_new['Auction'][index].lower()\n",
    "        if (myString.find(keys.lower()) > -1):\n",
    "            (df_new.loc[(index, dico[keys])]) = 1\n",
    "\n",
    "\n",
    "values, counts = np.unique(df_new['Make'], return_counts=True)\n",
    "df_new['Make_CHEVROLET'] = 0\n",
    "df_new['Make_CHRYSLER'] = 0\n",
    "df_new['Make_DODGE'] = 0\n",
    "df_new['Make_FORD'] = 0\n",
    "df_new['Make_HYUNDAI'] = 0\n",
    "df_new['Make_JEEP'] = 0\n",
    "df_new['Make_KIA'] = 0\n",
    "df_new['Make_NISSAN'] = 0\n",
    "df_new['Make_PONTIAC'] = 0\n",
    "df_new['Make_SATURN'] = 0\n",
    "df_new['Make_SUZUKI'] = 0\n",
    "df_new['Make_Other'] = 0\n",
    "dico = {\"CHEVROLET\":\"Make_CHEVROLET\",\"CHRYSLER\":\"Make_CHRYSLER\", \"DODGE\":\"Make_DODGE\",\"FORD\":\"Make_FORD\",\\\n",
    "        \"HYUNDAI\":\"Make_HYUNDAI\", \"JEEP\":\"Make_JEEP\",\"KIA\":\"Make_KIA\",\"NISSAN\":\"Make_NISSAN\", \"PONTIAC\":\"Make_PONTIAC\",\\\n",
    "        \"SATURN\":\"Make_SATURN\",\"SUZUKI\":\"Make_SUZUKI\", \"ACURA\":\"Make_Other\",\"BUICK\":\"Make_Other\",\"CADILLAC\":\"Make_Other\",\"GMC\":\"Make_Other\",\\\n",
    "        \"HONDA\":\"Make_Other\",\"HUMMER\":\"Make_Other\",\"INFINITI\":\"Make_Other\",\"ISUZU\":\"Make_Other\",\"LEXUS\":\"Make_Other\",\\\n",
    "        \"LINCOLN\":\"Make_Other\",\"MAZDA\":\"Make_Other\",\\\n",
    "        \"MERCURY\":\"Make_Other\",\"MINI\":\"Make_Other\",\"MITSUBISHI\":\"Make_Other\",\\\n",
    "        \"OLDSMOBILE\":\"Make_Other\",\"PLYMOUTH\":\"Make_Other\",\"SCION\":\"Make_Other\",\\\n",
    "        \"SUBARU\":\"Make_Other\",\"TOYOTA\":\"Make_Other\",\"TOYOTA SCION\":\"Make_Other\",\"VOLKSWAGEN\":\"Make_Other\",\"VOLVO\":\"Make_Other\"}\n",
    "for keys in dico.keys():\n",
    "    for index, row in df_new.iterrows():\n",
    "        myString = df_new['Make'][index].lower()\n",
    "        if (myString.find(keys.lower()) > -1):\n",
    "            (df_new.loc[(index, dico[keys])]) = 1\n",
    "\n",
    "\n",
    "values, counts = np.unique(df_new['Size'], return_counts=True)\n",
    "df_new['Size_COMPACT'] = 0\n",
    "df_new['Size_CROSSOVER'] = 0\n",
    "df_new['Size_LARGE'] = 0\n",
    "df_new['Size_LARGE_SUV'] = 0\n",
    "df_new['Size_LARGE_TRUCK'] = 0\n",
    "df_new['Size_MEDIUM'] = 0\n",
    "df_new['Size_MEDIUM_SUV'] = 0\n",
    "df_new['Size_SMALL_SUV'] = 0\n",
    "df_new['Size_SMALL_TRUCK'] = 0\n",
    "df_new['Size_SPECIALTY'] = 0\n",
    "df_new['Size_SPORTS'] = 0\n",
    "df_new['Size_VAN'] = 0\n",
    "dico = {\"COMPACT\":\"Size_COMPACT\",\"CROSSOVER\":\"Size_CROSSOVER\",\"LARGE\":\"Size_LARGE\",\"LARGE SUV\":\"Size_LARGE_SUV\",\\\n",
    "        \"LARGE TRUCK\":\"Size_LARGE_TRUCK\",\"MEDIUM\":\"Size_MEDIUM\",\"MEDIUM SUV\":\"Size_MEDIUM_SUV\",\"SMALL SUV\":\"Size_SMALL_SUV\",\\\n",
    "        \"SMALL TRUCK\":\"Size_SMALL_TRUCK\",\"SPECIALTY\":\"Size_SPECIALTY\",\"SPORTS\":\"Size_SPORTS\",\"VAN\":\"Size_VAN\",}\n",
    "for keys in dico.keys():\n",
    "    for index, row in df_new.iterrows():\n",
    "        myString = df_new['Size'][index].lower()\n",
    "        if (myString.find(keys.lower()) > -1):\n",
    "            (df_new.loc[(index, dico[keys])]) = 1"
   ]
  },
  {
   "cell_type": "code",
   "execution_count": null,
   "metadata": {},
   "outputs": [],
   "source": []
  },
  {
   "cell_type": "code",
   "execution_count": 107,
   "metadata": {},
   "outputs": [
    {
     "name": "stdout",
     "output_type": "stream",
     "text": [
      "<class 'pandas.core.frame.DataFrame'>\n",
      "RangeIndex: 14597 entries, 0 to 14596\n",
      "Data columns (total 50 columns):\n",
      "RefId                   14597 non-null int64\n",
      "VehicleAge              14597 non-null int64\n",
      "VehOdo                  14597 non-null int64\n",
      "VNZIP1                  14597 non-null int64\n",
      "WarrantyCost            14597 non-null int64\n",
      "Auction                 14597 non-null object\n",
      "Make                    14597 non-null object\n",
      "Size                    14597 non-null object\n",
      "IsOnlineSale            14597 non-null int64\n",
      "TopThreeAmericanName    14597 non-null object\n",
      "VNST                    14597 non-null object\n",
      "Trim                    14597 non-null object\n",
      "Color                   14597 non-null object\n",
      "WheelType               14597 non-null object\n",
      "Nationality             14597 non-null object\n",
      "Transmission            14597 non-null object\n",
      "IsBadBuy                14597 non-null int64\n",
      "MMR_factor_n            14597 non-null float64\n",
      "VehBCost_n              14597 non-null float64\n",
      "Top3_CHRYSLER           14597 non-null int64\n",
      "Top3_FORD               14597 non-null int64\n",
      "Top3_GM                 14597 non-null int64\n",
      "Top3_Other              14597 non-null int64\n",
      "Auction_ADESA           14597 non-null int64\n",
      "Auction_MANHEIM         14597 non-null int64\n",
      "Auction_Other           14597 non-null int64\n",
      "Make_CHEVROLET          14597 non-null int64\n",
      "Make_CHRYSLER           14597 non-null int64\n",
      "Make_DODGE              14597 non-null int64\n",
      "Make_FORD               14597 non-null int64\n",
      "Make_HYUNDAI            14597 non-null int64\n",
      "Make_JEEP               14597 non-null int64\n",
      "Make_KIA                14597 non-null int64\n",
      "Make_NISSAN             14597 non-null int64\n",
      "Make_PONTIAC            14597 non-null int64\n",
      "Make_SATURN             14597 non-null int64\n",
      "Make_SUZUKI             14597 non-null int64\n",
      "Make_Other              14597 non-null int64\n",
      "Size_COMPACT            14597 non-null int64\n",
      "Size_CROSSOVER          14597 non-null int64\n",
      "Size_LARGE              14597 non-null int64\n",
      "Size_LARGE_SUV          14597 non-null int64\n",
      "Size_LARGE_TRUCK        14597 non-null int64\n",
      "Size_MEDIUM             14597 non-null int64\n",
      "Size_MEDIUM_SUV         14597 non-null int64\n",
      "Size_SMALL_SUV          14597 non-null int64\n",
      "Size_SMALL_TRUCK        14597 non-null int64\n",
      "Size_SPECIALTY          14597 non-null int64\n",
      "Size_SPORTS             14597 non-null int64\n",
      "Size_VAN                14597 non-null int64\n",
      "dtypes: float64(2), int64(38), object(10)\n",
      "memory usage: 5.6+ MB\n"
     ]
    }
   ],
   "source": [
    "df_new.info()"
   ]
  },
  {
   "cell_type": "code",
   "execution_count": 59,
   "metadata": {},
   "outputs": [
    {
     "data": {
      "text/plain": [
       "(14597, 50)"
      ]
     },
     "execution_count": 59,
     "metadata": {},
     "output_type": "execute_result"
    }
   ],
   "source": [
    "df_new.shape"
   ]
  },
  {
   "cell_type": "code",
   "execution_count": 60,
   "metadata": {},
   "outputs": [],
   "source": [
    "num_df_f = df_new.select_dtypes(include=numerics)\n",
    "\n",
    "Y_final = df_new['IsBadBuy']\n",
    "#X_included = df_new.iloc[:,1:48] # Not including 0 cuz it's just RefId\n",
    "attributes_f = [col for col in num_df_f.columns if (col != 'RefId' and col != 'IsBadBuy')]\n",
    "\n",
    "X_final = num_df_f[attributes_f].values\n"
   ]
  },
  {
   "cell_type": "code",
   "execution_count": 110,
   "metadata": {},
   "outputs": [
    {
     "name": "stdout",
     "output_type": "stream",
     "text": [
      "<class 'pandas.core.frame.DataFrame'>\n",
      "RangeIndex: 14597 entries, 0 to 14596\n",
      "Data columns (total 40 columns):\n",
      "RefId               14597 non-null int64\n",
      "VehicleAge          14597 non-null int64\n",
      "VehOdo              14597 non-null int64\n",
      "VNZIP1              14597 non-null int64\n",
      "WarrantyCost        14597 non-null int64\n",
      "IsOnlineSale        14597 non-null int64\n",
      "IsBadBuy            14597 non-null int64\n",
      "MMR_factor_n        14597 non-null float64\n",
      "VehBCost_n          14597 non-null float64\n",
      "Top3_CHRYSLER       14597 non-null int64\n",
      "Top3_FORD           14597 non-null int64\n",
      "Top3_GM             14597 non-null int64\n",
      "Top3_Other          14597 non-null int64\n",
      "Auction_ADESA       14597 non-null int64\n",
      "Auction_MANHEIM     14597 non-null int64\n",
      "Auction_Other       14597 non-null int64\n",
      "Make_CHEVROLET      14597 non-null int64\n",
      "Make_CHRYSLER       14597 non-null int64\n",
      "Make_DODGE          14597 non-null int64\n",
      "Make_FORD           14597 non-null int64\n",
      "Make_HYUNDAI        14597 non-null int64\n",
      "Make_JEEP           14597 non-null int64\n",
      "Make_KIA            14597 non-null int64\n",
      "Make_NISSAN         14597 non-null int64\n",
      "Make_PONTIAC        14597 non-null int64\n",
      "Make_SATURN         14597 non-null int64\n",
      "Make_SUZUKI         14597 non-null int64\n",
      "Make_Other          14597 non-null int64\n",
      "Size_COMPACT        14597 non-null int64\n",
      "Size_CROSSOVER      14597 non-null int64\n",
      "Size_LARGE          14597 non-null int64\n",
      "Size_LARGE_SUV      14597 non-null int64\n",
      "Size_LARGE_TRUCK    14597 non-null int64\n",
      "Size_MEDIUM         14597 non-null int64\n",
      "Size_MEDIUM_SUV     14597 non-null int64\n",
      "Size_SMALL_SUV      14597 non-null int64\n",
      "Size_SMALL_TRUCK    14597 non-null int64\n",
      "Size_SPECIALTY      14597 non-null int64\n",
      "Size_SPORTS         14597 non-null int64\n",
      "Size_VAN            14597 non-null int64\n",
      "dtypes: float64(2), int64(38)\n",
      "memory usage: 4.5 MB\n"
     ]
    }
   ],
   "source": [
    "num_df_f.info()"
   ]
  },
  {
   "cell_type": "code",
   "execution_count": 111,
   "metadata": {},
   "outputs": [
    {
     "data": {
      "text/plain": [
       "14597"
      ]
     },
     "execution_count": 111,
     "metadata": {},
     "output_type": "execute_result"
    }
   ],
   "source": [
    "len(X_final)"
   ]
  },
  {
   "cell_type": "code",
   "execution_count": 61,
   "metadata": {},
   "outputs": [],
   "source": [
    "#help(f1_score)"
   ]
  },
  {
   "cell_type": "code",
   "execution_count": 113,
   "metadata": {},
   "outputs": [
    {
     "name": "stdout",
     "output_type": "stream",
     "text": [
      "Accuracy 0.8273617866684935\n",
      "F1-score 0.8273617866684935\n"
     ]
    }
   ],
   "source": [
    "pred_TS = clf_RF.predict(X_final)\n",
    "\n",
    "print('Accuracy %s' % accuracy_score(Y_final, pred_TS))\n",
    "print('F1-score %s' % f1_score(Y_final, pred_TS, average='micro'))\n"
   ]
  },
  {
   "cell_type": "code",
   "execution_count": 114,
   "metadata": {},
   "outputs": [],
   "source": [
    "predictions = pd.DataFrame(pred_TS, columns=['IsBadBuy']).to_csv('prediction_2.csv')"
   ]
  },
  {
   "cell_type": "markdown",
   "metadata": {},
   "source": [
    "### Grid Search for RF: "
   ]
  },
  {
   "cell_type": "code",
   "execution_count": 115,
   "metadata": {},
   "outputs": [],
   "source": [
    "from sklearn.model_selection import GridSearchCV\n",
    "from sklearn.model_selection import RandomizedSearchCV"
   ]
  },
  {
   "cell_type": "code",
   "execution_count": 116,
   "metadata": {},
   "outputs": [],
   "source": [
    "# Train model\n",
    "clf_RF_3 = RandomForestClassifier(n_estimators = 100)"
   ]
  },
  {
   "cell_type": "code",
   "execution_count": 117,
   "metadata": {},
   "outputs": [],
   "source": [
    "#For grid search ?\n",
    "# creteria\n",
    "criterion = ['entropy','gini']\n",
    "# Number of trees in random forest\n",
    "n_estimators = [int(x) for x in (30,150,30)]\n",
    "# Number of features to consider at every split\n",
    "max_features = [None,'auto']\n",
    "# Maximum number of levels in tree\n",
    "max_depth = [int(x) for x in (0, 16, 2)]\n",
    "max_depth.append(None)\n",
    "# Minimum number of samples to split a node\n",
    "min_samples_split = [2, 5, 10]\n",
    "# Minimum number of samples required at each leaf node\n",
    "min_samples_leaf = [1, 2, 5]\n",
    "# selecting samples for training each tree\n",
    "bootstrap = [True, False]\n",
    "\n",
    "\n",
    "random_grid = {'criterion': criterion ,'n_estimators': n_estimators,\n",
    "               'max_features': max_features,\n",
    "               'max_depth': max_depth,\n",
    "               'min_samples_split': min_samples_split,\n",
    "               'min_samples_leaf': min_samples_leaf,\n",
    "               'bootstrap': bootstrap}"
   ]
  },
  {
   "cell_type": "code",
   "execution_count": 118,
   "metadata": {},
   "outputs": [],
   "source": [
    "def report(results, n_top=3):\n",
    "    for i in range(1, n_top + 1):\n",
    "        candidates = np.flatnonzero(results['rank_test_score'] == i)\n",
    "        for candidate in candidates:\n",
    "            print(\"Mean validation score: {0:.5f} (std: {1:.5f})\".format(\n",
    "                  results['mean_test_score'][candidate],\n",
    "                  results['std_test_score'][candidate]))\n",
    "            print(\"Parameters: {0}\".format(results['params'][candidate]))\n",
    "            print(\"\")"
   ]
  },
  {
   "cell_type": "code",
   "execution_count": 119,
   "metadata": {},
   "outputs": [],
   "source": [
    "grid_search = GridSearchCV(clf_RF_3, param_grid=param_list, cv = 3, scoring = 'f1')"
   ]
  },
  {
   "cell_type": "code",
   "execution_count": null,
   "metadata": {},
   "outputs": [],
   "source": [
    "import datetime\n",
    "time_1 = datetime.datetime.now()\n",
    "\n",
    "grid_search.fit(X_train_up, y_train_up)\n",
    "\n",
    "time_2 = datetime.datetime.now()\n",
    "\n",
    "print('The computation time = {0}'.format(time_2 - time_1))"
   ]
  },
  {
   "cell_type": "code",
   "execution_count": null,
   "metadata": {},
   "outputs": [],
   "source": [
    "clf = grid_search.best_estimator_\n",
    "clf"
   ]
  },
  {
   "cell_type": "code",
   "execution_count": null,
   "metadata": {},
   "outputs": [],
   "source": [
    "pred_TS = clf.predict(X_final)\n",
    "\n",
    "print('Accuracy %s' % accuracy_score(Y_final, pred_TS))\n",
    "print('F1-score %s' % f1_score(Y_final, pred_TS, average=None))\n",
    "predictions = pd.DataFrame(pred_TS, columns=['IsBadBuy']).to_csv('prediction_RF_GridSearch.csv')"
   ]
  },
  {
   "cell_type": "markdown",
   "metadata": {},
   "source": [
    "# SVM"
   ]
  },
  {
   "cell_type": "code",
   "execution_count": null,
   "metadata": {},
   "outputs": [],
   "source": [
    "from sklearn.svm import SVC"
   ]
  },
  {
   "cell_type": "code",
   "execution_count": null,
   "metadata": {},
   "outputs": [],
   "source": [
    "attributes = [col for col in num_df.columns if col != 'IsBadBuy']\n",
    "# attributes = df.drop(['class'], axis=1).values\n",
    "\n",
    "X = num_df[attributes].values\n",
    "y = num_df['IsBadBuy']\n",
    "\n",
    "X_train_svm, X_test_svm, y_train_svm, y_test_svm = train_test_split(X, y, \n",
    "                                                    test_size=0.3, \n",
    "                                                    random_state=100, \n",
    "                                                    stratify=y)"
   ]
  },
  {
   "cell_type": "markdown",
   "metadata": {},
   "source": [
    "############ Train model\n",
    "clf_SVM = SVC(kernel='rbf', \n",
    "            class_weight='balanced', # penalize\n",
    "            probability=True)\n",
    " \n",
    "clf_SVM.fit(X_train_svm, y_train_svm)\n",
    " \n",
    "############ Predict on training set\n",
    "pred_train_svm = clf_SVM.predict(X_train_svm)\n",
    " \n",
    "\n",
    " \n",
    "############# How's F1?\n",
    "print( f1_score(y_train, pred_train_svm, average='micro') )\n"
   ]
  },
  {
   "cell_type": "code",
   "execution_count": null,
   "metadata": {},
   "outputs": [],
   "source": [
    "print( f1_score(y_train, pred_train_svm, average=None) )"
   ]
  },
  {
   "cell_type": "markdown",
   "metadata": {},
   "source": [
    "# XGBoost"
   ]
  },
  {
   "cell_type": "code",
   "execution_count": 123,
   "metadata": {},
   "outputs": [],
   "source": [
    "import xgboost as xgb\n",
    "#gdhd sgd"
   ]
  },
  {
   "cell_type": "code",
   "execution_count": 124,
   "metadata": {},
   "outputs": [],
   "source": [
    "attributes = [col for col in num_df.columns if col != 'IsBadBuy']\n",
    "# attributes = df.drop(['class'], axis=1).values\n",
    "\n",
    "X = num_df[attributes].values\n",
    "y = num_df['IsBadBuy']\n",
    "\n",
    "X_train_xgb, X_test_xgb, y_train_xgb, y_test_xgb = train_test_split(X, y, \n",
    "                                                    test_size=0.3, \n",
    "                                                    random_state=100, \n",
    "                                                    stratify=y)"
   ]
  },
  {
   "cell_type": "code",
   "execution_count": 193,
   "metadata": {},
   "outputs": [
    {
     "name": "stdout",
     "output_type": "stream",
     "text": [
      "[[22527 13297]\n",
      " [13175 22650]]\n"
     ]
    }
   ],
   "source": [
    "xgb_model = xgb.XGBClassifier(booster='gbtree', eval_metric ='auc', objective=\"binary:logistic\", random_state=42, learning_rate = 0.05)\n",
    "xgb_model.fit(X_train_up, y_train_up)\n",
    "\n",
    "y_pred = xgb_model.predict(X_train_up)\n",
    "\n",
    "print(confusion_matrix(y_train_up, y_pred))"
   ]
  },
  {
   "cell_type": "code",
   "execution_count": 194,
   "metadata": {},
   "outputs": [
    {
     "name": "stdout",
     "output_type": "stream",
     "text": [
      "[0.62989682 0.63116536]\n"
     ]
    }
   ],
   "source": [
    "print( f1_score(y_train_up, y_pred, average=None) )"
   ]
  },
  {
   "cell_type": "code",
   "execution_count": 195,
   "metadata": {},
   "outputs": [],
   "source": [
    "y_pred_ts = xgb_model.predict(X_test_up)\n"
   ]
  },
  {
   "cell_type": "code",
   "execution_count": 158,
   "metadata": {},
   "outputs": [
    {
     "name": "stdout",
     "output_type": "stream",
     "text": [
      "0.6266323639561012\n"
     ]
    }
   ],
   "source": [
    "print( f1_score(y_test_up, y_pred_ts, average='micro') )"
   ]
  },
  {
   "cell_type": "code",
   "execution_count": 196,
   "metadata": {},
   "outputs": [
    {
     "data": {
      "text/plain": [
       "array([1, 0, 0, ..., 0, 0, 0], dtype=int64)"
      ]
     },
     "execution_count": 196,
     "metadata": {},
     "output_type": "execute_result"
    }
   ],
   "source": [
    "y_pred_ts"
   ]
  },
  {
   "cell_type": "code",
   "execution_count": 197,
   "metadata": {},
   "outputs": [],
   "source": [
    "y_pred_fin = xgb_model.predict(X_final)\n"
   ]
  },
  {
   "cell_type": "code",
   "execution_count": 199,
   "metadata": {},
   "outputs": [
    {
     "name": "stdout",
     "output_type": "stream",
     "text": [
      "0.4469411522915668\n"
     ]
    }
   ],
   "source": [
    "print( f1_score(Y_final, y_pred_fin, average='micro') )"
   ]
  },
  {
   "cell_type": "code",
   "execution_count": 200,
   "metadata": {},
   "outputs": [],
   "source": [
    "predictions = pd.DataFrame(y_pred_fin, columns=['IsBadBuy']).to_csv('prediction_xgb.csv')"
   ]
  }
 ],
 "metadata": {
  "kernelspec": {
   "display_name": "Python 3",
   "language": "python",
   "name": "python3"
  },
  "language_info": {
   "codemirror_mode": {
    "name": "ipython",
    "version": 3
   },
   "file_extension": ".py",
   "mimetype": "text/x-python",
   "name": "python",
   "nbconvert_exporter": "python",
   "pygments_lexer": "ipython3",
   "version": "3.7.3"
  }
 },
 "nbformat": 4,
 "nbformat_minor": 2
}
